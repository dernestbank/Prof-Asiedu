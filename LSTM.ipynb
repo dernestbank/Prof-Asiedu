{
 "cells": [
  {
   "cell_type": "code",
   "execution_count": 1,
   "source": [
    "%matplotlib inline\r\n",
    "import matplotlib.pyplot as plt\r\n",
    "import seaborn as sns\r\n",
    "import pandas as pd\r\n",
    "import numpy as np"
   ],
   "outputs": [],
   "metadata": {}
  },
  {
   "cell_type": "code",
   "execution_count": 2,
   "source": [
    "import math\r\n",
    "from keras.models import Sequential\r\n",
    "from keras.layers import Dense,Dropout\r\n",
    "from keras.layers import LSTM\r\n",
    "from sklearn.preprocessing import MinMaxScaler\r\n",
    "from sklearn.metrics import mean_squared_error\r\n",
    "\r\n",
    "\r\n",
    "from sklearn import svm, datasets, metrics, model_selection, preprocessing, pipeline\r\n",
    "\r\n",
    "\r\n",
    "from tensorflow.keras import layers, callbacks\r\n",
    "from tensorflow.keras.layers import Dense, LSTM, Dropout, GRU, Bidirectional\r\n",
    "# from Ipython.core.pylabtools import figsize\r\n",
    "# from pandas.plotting import register_maplotlib_converters "
   ],
   "outputs": [],
   "metadata": {}
  },
  {
   "cell_type": "code",
   "execution_count": null,
   "source": [
    "# non pcas\r\n",
    "\r\n",
    "xlsx = pd.ExcelFile('DATA.xlsx')\r\n",
    "df = pd.read_excel(xlsx, 'Sheet1')\r\n",
    "dataset= df.copy()"
   ],
   "outputs": [],
   "metadata": {}
  },
  {
   "cell_type": "code",
   "execution_count": null,
   "source": [
    "\r\n",
    "\r\n",
    "def standardizme(dataset, outname):\r\n",
    "    from sklearn.preprocessing import StandardScaler\r\n",
    "    scaler1 = StandardScaler()\r\n",
    "    Sd_scaler1 =scaler1.fit(dataset)\r\n",
    "    data1_Sd= Sd_scaler1.transform(dataset)\r\n",
    "    print(data1_Sd)\r\n",
    "    \r\n",
    "    #convert to dataframe\r\n",
    "    outname= pd.DataFrame(data1_Sd, columns=dataset.keys())\r\n",
    "\r\n",
    "    return outname\r\n",
    "\r\n",
    "standardizme(dataset,dataset)\r\n",
    "\r\n",
    "\r\n",
    "# using minmax\r\n",
    "# places each feature between 1 and 0\r\n",
    "from sklearn.preprocessing import MinMaxScaler\r\n",
    "\r\n",
    "scaler2=MinMaxScaler()\r\n",
    "MM_scaler1=scaler2.fit(dataset)\r\n",
    "data1_MM=MM_scaler1.transform(dataset)\r\n",
    "print(data1_MM)"
   ],
   "outputs": [],
   "metadata": {}
  },
  {
   "cell_type": "code",
   "execution_count": 28,
   "source": [
    "# non pcas\r\n",
    "\r\n",
    "xlsx = pd.ExcelFile('./Data/Outlier_thresh1_50.xlsx')\r\n",
    "df = pd.read_excel(xlsx, '1S 4X')\r\n",
    "dataset= df.copy()\r\n",
    "\r\n",
    "\r\n",
    "\r\n",
    "\r\n",
    "\r\n",
    "from sklearn.preprocessing import MinMaxScaler\r\n",
    "scaler2=MinMaxScaler(feature_range = (0, 1))\r\n",
    "MM_scaler1=scaler2.fit(dataset)\r\n",
    "data1_MM=MM_scaler1.transform(dataset)\r\n",
    "\r\n",
    "#     print(data1_MM)\r\n",
    "    \r\n",
    "#     convert to dataframe\r\n",
    "outname= pd.DataFrame(data1_MM, columns=dataset.keys())\r\n",
    "\r\n",
    "dataset_sd= data1_MM\r\n",
    "#     return dataset_sd\r\n",
    "\r\n",
    "# standardizme(dataset)\r\n",
    "\r\n",
    "\r\n",
    "# split datat into input and target\r\n",
    "\r\n",
    "inputs = dataset_sd.copy()\r\n",
    "\r\n",
    "target = inputs.pop('RHOB')\r\n",
    "\r\n",
    "\r\n",
    "train_input, test_input, train_target, test_target = model_selection.train_test_split(inputs, target, train_size=0.7, random_state=None, shuffle=False,)\r\n",
    "\r\n",
    "print('train samples:', len(train_input))\r\n",
    "print('test samples', len(test_input))\r\n"
   ],
   "outputs": [
    {
     "output_type": "error",
     "ename": "AttributeError",
     "evalue": "'numpy.ndarray' object has no attribute 'pop'",
     "traceback": [
      "\u001b[1;31m---------------------------------------------------------------------------\u001b[0m",
      "\u001b[1;31mAttributeError\u001b[0m                            Traceback (most recent call last)",
      "\u001b[1;32m<ipython-input-28-473355a8d8f5>\u001b[0m in \u001b[0;36m<module>\u001b[1;34m\u001b[0m\n\u001b[0;32m     29\u001b[0m \u001b[0minputs\u001b[0m \u001b[1;33m=\u001b[0m \u001b[0mdataset_sd\u001b[0m\u001b[1;33m.\u001b[0m\u001b[0mcopy\u001b[0m\u001b[1;33m(\u001b[0m\u001b[1;33m)\u001b[0m\u001b[1;33m\u001b[0m\u001b[1;33m\u001b[0m\u001b[0m\n\u001b[0;32m     30\u001b[0m \u001b[1;33m\u001b[0m\u001b[0m\n\u001b[1;32m---> 31\u001b[1;33m \u001b[0mtarget\u001b[0m \u001b[1;33m=\u001b[0m \u001b[0minputs\u001b[0m\u001b[1;33m.\u001b[0m\u001b[0mpop\u001b[0m\u001b[1;33m(\u001b[0m\u001b[1;34m'RHOB'\u001b[0m\u001b[1;33m)\u001b[0m\u001b[1;33m\u001b[0m\u001b[1;33m\u001b[0m\u001b[0m\n\u001b[0m\u001b[0;32m     32\u001b[0m \u001b[1;33m\u001b[0m\u001b[0m\n\u001b[0;32m     33\u001b[0m \u001b[1;33m\u001b[0m\u001b[0m\n",
      "\u001b[1;31mAttributeError\u001b[0m: 'numpy.ndarray' object has no attribute 'pop'"
     ]
    }
   ],
   "metadata": {}
  },
  {
   "cell_type": "code",
   "execution_count": 25,
   "source": [
    "# train_input.shape\r\n",
    "dataset\r\n",
    "# test_target"
   ],
   "outputs": [
    {
     "output_type": "execute_result",
     "data": {
      "text/html": [
       "<div>\n",
       "<style scoped>\n",
       "    .dataframe tbody tr th:only-of-type {\n",
       "        vertical-align: middle;\n",
       "    }\n",
       "\n",
       "    .dataframe tbody tr th {\n",
       "        vertical-align: top;\n",
       "    }\n",
       "\n",
       "    .dataframe thead th {\n",
       "        text-align: right;\n",
       "    }\n",
       "</style>\n",
       "<table border=\"1\" class=\"dataframe\">\n",
       "  <thead>\n",
       "    <tr style=\"text-align: right;\">\n",
       "      <th></th>\n",
       "      <th>DEPTH</th>\n",
       "      <th>CALI</th>\n",
       "      <th>GR</th>\n",
       "      <th>ILD</th>\n",
       "      <th>ITT</th>\n",
       "      <th>LLD</th>\n",
       "      <th>LLS</th>\n",
       "      <th>MSFL</th>\n",
       "      <th>NPHI</th>\n",
       "      <th>RHOB</th>\n",
       "      <th>SFL</th>\n",
       "      <th>SP</th>\n",
       "    </tr>\n",
       "  </thead>\n",
       "  <tbody>\n",
       "    <tr>\n",
       "      <th>0</th>\n",
       "      <td>1397.8128</td>\n",
       "      <td>22.583600</td>\n",
       "      <td>48.69380</td>\n",
       "      <td>4.8681</td>\n",
       "      <td>0.1085</td>\n",
       "      <td>1.3742</td>\n",
       "      <td>1.3348</td>\n",
       "      <td>0.3199</td>\n",
       "      <td>0.5203</td>\n",
       "      <td>1.840900</td>\n",
       "      <td>2.5852</td>\n",
       "      <td>-90.1580</td>\n",
       "    </tr>\n",
       "    <tr>\n",
       "      <th>1</th>\n",
       "      <td>1397.9652</td>\n",
       "      <td>22.620200</td>\n",
       "      <td>50.56180</td>\n",
       "      <td>1.6163</td>\n",
       "      <td>0.1065</td>\n",
       "      <td>1.3631</td>\n",
       "      <td>1.2810</td>\n",
       "      <td>0.3188</td>\n",
       "      <td>0.5367</td>\n",
       "      <td>1.831100</td>\n",
       "      <td>1.3248</td>\n",
       "      <td>-97.6912</td>\n",
       "    </tr>\n",
       "    <tr>\n",
       "      <th>2</th>\n",
       "      <td>1398.1176</td>\n",
       "      <td>22.656800</td>\n",
       "      <td>53.31300</td>\n",
       "      <td>2.0106</td>\n",
       "      <td>0.1045</td>\n",
       "      <td>1.3652</td>\n",
       "      <td>1.2272</td>\n",
       "      <td>0.3178</td>\n",
       "      <td>0.5531</td>\n",
       "      <td>1.821300</td>\n",
       "      <td>1.5789</td>\n",
       "      <td>-102.8984</td>\n",
       "    </tr>\n",
       "    <tr>\n",
       "      <th>3</th>\n",
       "      <td>1398.2700</td>\n",
       "      <td>22.693400</td>\n",
       "      <td>55.10940</td>\n",
       "      <td>2.9638</td>\n",
       "      <td>0.1025</td>\n",
       "      <td>1.3925</td>\n",
       "      <td>1.1734</td>\n",
       "      <td>0.3188</td>\n",
       "      <td>0.5530</td>\n",
       "      <td>1.811500</td>\n",
       "      <td>2.4775</td>\n",
       "      <td>-110.9431</td>\n",
       "    </tr>\n",
       "    <tr>\n",
       "      <th>4</th>\n",
       "      <td>1398.4224</td>\n",
       "      <td>22.730000</td>\n",
       "      <td>54.88730</td>\n",
       "      <td>3.5034</td>\n",
       "      <td>0.1027</td>\n",
       "      <td>1.3968</td>\n",
       "      <td>1.1196</td>\n",
       "      <td>0.3179</td>\n",
       "      <td>0.5423</td>\n",
       "      <td>1.801700</td>\n",
       "      <td>3.3761</td>\n",
       "      <td>-114.2520</td>\n",
       "    </tr>\n",
       "    <tr>\n",
       "      <th>...</th>\n",
       "      <td>...</td>\n",
       "      <td>...</td>\n",
       "      <td>...</td>\n",
       "      <td>...</td>\n",
       "      <td>...</td>\n",
       "      <td>...</td>\n",
       "      <td>...</td>\n",
       "      <td>...</td>\n",
       "      <td>...</td>\n",
       "      <td>...</td>\n",
       "      <td>...</td>\n",
       "      <td>...</td>\n",
       "    </tr>\n",
       "    <tr>\n",
       "      <th>4202</th>\n",
       "      <td>2038.1976</td>\n",
       "      <td>13.346050</td>\n",
       "      <td>42.81705</td>\n",
       "      <td>2.1493</td>\n",
       "      <td>0.0860</td>\n",
       "      <td>2.4922</td>\n",
       "      <td>2.5933</td>\n",
       "      <td>1.5312</td>\n",
       "      <td>0.2901</td>\n",
       "      <td>2.292933</td>\n",
       "      <td>2.3165</td>\n",
       "      <td>-37.2460</td>\n",
       "    </tr>\n",
       "    <tr>\n",
       "      <th>4203</th>\n",
       "      <td>2038.3500</td>\n",
       "      <td>13.345175</td>\n",
       "      <td>43.00350</td>\n",
       "      <td>2.1972</td>\n",
       "      <td>0.0865</td>\n",
       "      <td>2.1937</td>\n",
       "      <td>2.2315</td>\n",
       "      <td>1.5235</td>\n",
       "      <td>0.2863</td>\n",
       "      <td>2.289700</td>\n",
       "      <td>2.2338</td>\n",
       "      <td>-36.8327</td>\n",
       "    </tr>\n",
       "    <tr>\n",
       "      <th>4204</th>\n",
       "      <td>2038.5024</td>\n",
       "      <td>13.344300</td>\n",
       "      <td>43.18995</td>\n",
       "      <td>2.2765</td>\n",
       "      <td>0.0869</td>\n",
       "      <td>2.0966</td>\n",
       "      <td>1.9364</td>\n",
       "      <td>1.5158</td>\n",
       "      <td>0.2825</td>\n",
       "      <td>2.303800</td>\n",
       "      <td>2.1731</td>\n",
       "      <td>-36.7469</td>\n",
       "    </tr>\n",
       "    <tr>\n",
       "      <th>4205</th>\n",
       "      <td>2038.6548</td>\n",
       "      <td>13.343700</td>\n",
       "      <td>43.37640</td>\n",
       "      <td>2.3558</td>\n",
       "      <td>0.0872</td>\n",
       "      <td>1.9995</td>\n",
       "      <td>1.9078</td>\n",
       "      <td>1.5081</td>\n",
       "      <td>0.2787</td>\n",
       "      <td>2.317300</td>\n",
       "      <td>2.1331</td>\n",
       "      <td>-36.8805</td>\n",
       "    </tr>\n",
       "    <tr>\n",
       "      <th>4206</th>\n",
       "      <td>2038.8072</td>\n",
       "      <td>13.343100</td>\n",
       "      <td>41.27000</td>\n",
       "      <td>2.4351</td>\n",
       "      <td>0.0866</td>\n",
       "      <td>2.1289</td>\n",
       "      <td>1.9915</td>\n",
       "      <td>1.5004</td>\n",
       "      <td>0.2749</td>\n",
       "      <td>2.319200</td>\n",
       "      <td>2.0390</td>\n",
       "      <td>-37.3401</td>\n",
       "    </tr>\n",
       "  </tbody>\n",
       "</table>\n",
       "<p>4207 rows × 12 columns</p>\n",
       "</div>"
      ],
      "text/plain": [
       "          DEPTH       CALI        GR     ILD     ITT     LLD     LLS    MSFL  \\\n",
       "0     1397.8128  22.583600  48.69380  4.8681  0.1085  1.3742  1.3348  0.3199   \n",
       "1     1397.9652  22.620200  50.56180  1.6163  0.1065  1.3631  1.2810  0.3188   \n",
       "2     1398.1176  22.656800  53.31300  2.0106  0.1045  1.3652  1.2272  0.3178   \n",
       "3     1398.2700  22.693400  55.10940  2.9638  0.1025  1.3925  1.1734  0.3188   \n",
       "4     1398.4224  22.730000  54.88730  3.5034  0.1027  1.3968  1.1196  0.3179   \n",
       "...         ...        ...       ...     ...     ...     ...     ...     ...   \n",
       "4202  2038.1976  13.346050  42.81705  2.1493  0.0860  2.4922  2.5933  1.5312   \n",
       "4203  2038.3500  13.345175  43.00350  2.1972  0.0865  2.1937  2.2315  1.5235   \n",
       "4204  2038.5024  13.344300  43.18995  2.2765  0.0869  2.0966  1.9364  1.5158   \n",
       "4205  2038.6548  13.343700  43.37640  2.3558  0.0872  1.9995  1.9078  1.5081   \n",
       "4206  2038.8072  13.343100  41.27000  2.4351  0.0866  2.1289  1.9915  1.5004   \n",
       "\n",
       "        NPHI      RHOB     SFL        SP  \n",
       "0     0.5203  1.840900  2.5852  -90.1580  \n",
       "1     0.5367  1.831100  1.3248  -97.6912  \n",
       "2     0.5531  1.821300  1.5789 -102.8984  \n",
       "3     0.5530  1.811500  2.4775 -110.9431  \n",
       "4     0.5423  1.801700  3.3761 -114.2520  \n",
       "...      ...       ...     ...       ...  \n",
       "4202  0.2901  2.292933  2.3165  -37.2460  \n",
       "4203  0.2863  2.289700  2.2338  -36.8327  \n",
       "4204  0.2825  2.303800  2.1731  -36.7469  \n",
       "4205  0.2787  2.317300  2.1331  -36.8805  \n",
       "4206  0.2749  2.319200  2.0390  -37.3401  \n",
       "\n",
       "[4207 rows x 12 columns]"
      ]
     },
     "metadata": {},
     "execution_count": 25
    }
   ],
   "metadata": {}
  },
  {
   "cell_type": "markdown",
   "source": [
    "# 2.5 Data transformation\n",
    "\n",
    "It is important to ensure that the scale of the output is in the range 0–1 to match the scale of the activation function (tanh) on the output layer of LSTM, GRU and BiLSTM. Also, input variables are better to be small values, probably in the range of 0–1.\n",
    "\n",
    "\n",
    "* Fit the scaler (MinMaxScaler) using available training data (It means that the minimum and maximum observable values are estimated using training data.)\n",
    "\n",
    "* Apply the scaler to training data\n",
    "\n",
    "*Apply the scaler to test data\n",
    "\n",
    "It is important to note that we should scale the unseen data with the scaler fitted on the training data."
   ],
   "metadata": {}
  },
  {
   "cell_type": "code",
   "execution_count": null,
   "source": [
    "# Different scaler for input and output\r\n",
    "scaler_x = MinMaxScaler(feature_range = (0,1))\r\n",
    "scaler_y = MinMaxScaler(feature_range = (0,1))\r\n",
    "# Fit the scaler using available training data\r\n",
    "input_scaler = scaler_x.fit(X_train)\r\n",
    "output_scaler = scaler_y.fit(y_train)\r\n",
    "# Apply the scaler to training data\r\n",
    "train_y_norm = output_scaler.transform(y_train)\r\n",
    "train_x_norm = input_scaler.transform(X_train)\r\n",
    "# Apply the scaler to test data\r\n",
    "test_y_norm = output_scaler.transform(y_test)\r\n",
    "test_x_norm = input_scaler.transform(X_test)"
   ],
   "outputs": [],
   "metadata": {}
  },
  {
   "cell_type": "code",
   "execution_count": null,
   "source": [],
   "outputs": [],
   "metadata": {}
  },
  {
   "cell_type": "code",
   "execution_count": null,
   "source": [
    "# split datat into input and target\r\n",
    "\r\n",
    "inputs = dataset.copy()\r\n",
    "\r\n",
    "target = inputs.pop('RHOB')\r\n",
    "\r\n",
    "\r\n",
    "train_input, test_input, train_target, test_target = model_selection.train_test_split(inputs, target, train_size=0.7)\r\n",
    "\r\n",
    "print('train samples:', len(train_input))\r\n",
    "print('test samples', len(test_input))"
   ],
   "outputs": [],
   "metadata": {}
  },
  {
   "cell_type": "code",
   "execution_count": 14,
   "source": [
    "range(60, 2035)"
   ],
   "outputs": [
    {
     "output_type": "execute_result",
     "data": {
      "text/plain": [
       "range(60, 2035)"
      ]
     },
     "metadata": {},
     "execution_count": 14
    }
   ],
   "metadata": {}
  },
  {
   "cell_type": "code",
   "execution_count": 16,
   "source": [
    "# Creating Data with Timesteps\r\n",
    "# len(X)-time_steps\r\n",
    "# i:i+time_steps, :\r\n",
    "X_train = []\r\n",
    "y_train = []\r\n",
    "time_steps=60\r\n",
    "for i in range(len(train_input)-time_steps):\r\n",
    "    X_train.append(train_input[i-60:i, 0])\r\n",
    "    y_train.append(train_target[i, 0])\r\n",
    "X_train, y_train = np.array(X_train), np.array(y_train)\r\n",
    "\r\n",
    "X_train = np.reshape(X_train, (X_train.shape[0], X_train.shape[1], 1))"
   ],
   "outputs": [
    {
     "output_type": "error",
     "ename": "TypeError",
     "evalue": "'(slice(-60, 0, None), 0)' is an invalid key",
     "traceback": [
      "\u001b[1;31m---------------------------------------------------------------------------\u001b[0m",
      "\u001b[1;31mTypeError\u001b[0m                                 Traceback (most recent call last)",
      "\u001b[1;32m<ipython-input-16-418fddffd6a0>\u001b[0m in \u001b[0;36m<module>\u001b[1;34m\u001b[0m\n\u001b[0;32m      6\u001b[0m \u001b[0mtime_steps\u001b[0m\u001b[1;33m=\u001b[0m\u001b[1;36m60\u001b[0m\u001b[1;33m\u001b[0m\u001b[1;33m\u001b[0m\u001b[0m\n\u001b[0;32m      7\u001b[0m \u001b[1;32mfor\u001b[0m \u001b[0mi\u001b[0m \u001b[1;32min\u001b[0m \u001b[0mrange\u001b[0m\u001b[1;33m(\u001b[0m\u001b[0mlen\u001b[0m\u001b[1;33m(\u001b[0m\u001b[0mtrain_input\u001b[0m\u001b[1;33m)\u001b[0m\u001b[1;33m-\u001b[0m\u001b[0mtime_steps\u001b[0m\u001b[1;33m)\u001b[0m\u001b[1;33m:\u001b[0m\u001b[1;33m\u001b[0m\u001b[1;33m\u001b[0m\u001b[0m\n\u001b[1;32m----> 8\u001b[1;33m     \u001b[0mX_train\u001b[0m\u001b[1;33m.\u001b[0m\u001b[0mappend\u001b[0m\u001b[1;33m(\u001b[0m\u001b[0mtrain_input\u001b[0m\u001b[1;33m[\u001b[0m\u001b[0mi\u001b[0m\u001b[1;33m-\u001b[0m\u001b[1;36m60\u001b[0m\u001b[1;33m:\u001b[0m\u001b[0mi\u001b[0m\u001b[1;33m,\u001b[0m \u001b[1;36m0\u001b[0m\u001b[1;33m]\u001b[0m\u001b[1;33m)\u001b[0m\u001b[1;33m\u001b[0m\u001b[1;33m\u001b[0m\u001b[0m\n\u001b[0m\u001b[0;32m      9\u001b[0m     \u001b[0my_train\u001b[0m\u001b[1;33m.\u001b[0m\u001b[0mappend\u001b[0m\u001b[1;33m(\u001b[0m\u001b[0mtrain_target\u001b[0m\u001b[1;33m[\u001b[0m\u001b[0mi\u001b[0m\u001b[1;33m,\u001b[0m \u001b[1;36m0\u001b[0m\u001b[1;33m]\u001b[0m\u001b[1;33m)\u001b[0m\u001b[1;33m\u001b[0m\u001b[1;33m\u001b[0m\u001b[0m\n\u001b[0;32m     10\u001b[0m \u001b[0mX_train\u001b[0m\u001b[1;33m,\u001b[0m \u001b[0my_train\u001b[0m \u001b[1;33m=\u001b[0m \u001b[0mnp\u001b[0m\u001b[1;33m.\u001b[0m\u001b[0marray\u001b[0m\u001b[1;33m(\u001b[0m\u001b[0mX_train\u001b[0m\u001b[1;33m)\u001b[0m\u001b[1;33m,\u001b[0m \u001b[0mnp\u001b[0m\u001b[1;33m.\u001b[0m\u001b[0marray\u001b[0m\u001b[1;33m(\u001b[0m\u001b[0my_train\u001b[0m\u001b[1;33m)\u001b[0m\u001b[1;33m\u001b[0m\u001b[1;33m\u001b[0m\u001b[0m\n",
      "\u001b[1;32mD:\\anaconda3\\lib\\site-packages\\pandas\\core\\frame.py\u001b[0m in \u001b[0;36m__getitem__\u001b[1;34m(self, key)\u001b[0m\n\u001b[0;32m   2900\u001b[0m             \u001b[1;32mif\u001b[0m \u001b[0mself\u001b[0m\u001b[1;33m.\u001b[0m\u001b[0mcolumns\u001b[0m\u001b[1;33m.\u001b[0m\u001b[0mnlevels\u001b[0m \u001b[1;33m>\u001b[0m \u001b[1;36m1\u001b[0m\u001b[1;33m:\u001b[0m\u001b[1;33m\u001b[0m\u001b[1;33m\u001b[0m\u001b[0m\n\u001b[0;32m   2901\u001b[0m                 \u001b[1;32mreturn\u001b[0m \u001b[0mself\u001b[0m\u001b[1;33m.\u001b[0m\u001b[0m_getitem_multilevel\u001b[0m\u001b[1;33m(\u001b[0m\u001b[0mkey\u001b[0m\u001b[1;33m)\u001b[0m\u001b[1;33m\u001b[0m\u001b[1;33m\u001b[0m\u001b[0m\n\u001b[1;32m-> 2902\u001b[1;33m             \u001b[0mindexer\u001b[0m \u001b[1;33m=\u001b[0m \u001b[0mself\u001b[0m\u001b[1;33m.\u001b[0m\u001b[0mcolumns\u001b[0m\u001b[1;33m.\u001b[0m\u001b[0mget_loc\u001b[0m\u001b[1;33m(\u001b[0m\u001b[0mkey\u001b[0m\u001b[1;33m)\u001b[0m\u001b[1;33m\u001b[0m\u001b[1;33m\u001b[0m\u001b[0m\n\u001b[0m\u001b[0;32m   2903\u001b[0m             \u001b[1;32mif\u001b[0m \u001b[0mis_integer\u001b[0m\u001b[1;33m(\u001b[0m\u001b[0mindexer\u001b[0m\u001b[1;33m)\u001b[0m\u001b[1;33m:\u001b[0m\u001b[1;33m\u001b[0m\u001b[1;33m\u001b[0m\u001b[0m\n\u001b[0;32m   2904\u001b[0m                 \u001b[0mindexer\u001b[0m \u001b[1;33m=\u001b[0m \u001b[1;33m[\u001b[0m\u001b[0mindexer\u001b[0m\u001b[1;33m]\u001b[0m\u001b[1;33m\u001b[0m\u001b[1;33m\u001b[0m\u001b[0m\n",
      "\u001b[1;32mD:\\anaconda3\\lib\\site-packages\\pandas\\core\\indexes\\base.py\u001b[0m in \u001b[0;36mget_loc\u001b[1;34m(self, key, method, tolerance)\u001b[0m\n\u001b[0;32m   2893\u001b[0m             \u001b[0mcasted_key\u001b[0m \u001b[1;33m=\u001b[0m \u001b[0mself\u001b[0m\u001b[1;33m.\u001b[0m\u001b[0m_maybe_cast_indexer\u001b[0m\u001b[1;33m(\u001b[0m\u001b[0mkey\u001b[0m\u001b[1;33m)\u001b[0m\u001b[1;33m\u001b[0m\u001b[1;33m\u001b[0m\u001b[0m\n\u001b[0;32m   2894\u001b[0m             \u001b[1;32mtry\u001b[0m\u001b[1;33m:\u001b[0m\u001b[1;33m\u001b[0m\u001b[1;33m\u001b[0m\u001b[0m\n\u001b[1;32m-> 2895\u001b[1;33m                 \u001b[1;32mreturn\u001b[0m \u001b[0mself\u001b[0m\u001b[1;33m.\u001b[0m\u001b[0m_engine\u001b[0m\u001b[1;33m.\u001b[0m\u001b[0mget_loc\u001b[0m\u001b[1;33m(\u001b[0m\u001b[0mcasted_key\u001b[0m\u001b[1;33m)\u001b[0m\u001b[1;33m\u001b[0m\u001b[1;33m\u001b[0m\u001b[0m\n\u001b[0m\u001b[0;32m   2896\u001b[0m             \u001b[1;32mexcept\u001b[0m \u001b[0mKeyError\u001b[0m \u001b[1;32mas\u001b[0m \u001b[0merr\u001b[0m\u001b[1;33m:\u001b[0m\u001b[1;33m\u001b[0m\u001b[1;33m\u001b[0m\u001b[0m\n\u001b[0;32m   2897\u001b[0m                 \u001b[1;32mraise\u001b[0m \u001b[0mKeyError\u001b[0m\u001b[1;33m(\u001b[0m\u001b[0mkey\u001b[0m\u001b[1;33m)\u001b[0m \u001b[1;32mfrom\u001b[0m \u001b[0merr\u001b[0m\u001b[1;33m\u001b[0m\u001b[1;33m\u001b[0m\u001b[0m\n",
      "\u001b[1;32mpandas\\_libs\\index.pyx\u001b[0m in \u001b[0;36mpandas._libs.index.IndexEngine.get_loc\u001b[1;34m()\u001b[0m\n",
      "\u001b[1;32mpandas\\_libs\\index.pyx\u001b[0m in \u001b[0;36mpandas._libs.index.IndexEngine.get_loc\u001b[1;34m()\u001b[0m\n",
      "\u001b[1;31mTypeError\u001b[0m: '(slice(-60, 0, None), 0)' is an invalid key"
     ]
    }
   ],
   "metadata": {}
  },
  {
   "cell_type": "code",
   "execution_count": null,
   "source": [],
   "outputs": [],
   "metadata": {}
  },
  {
   "cell_type": "code",
   "execution_count": 8,
   "source": [
    "# Building the LSTM\r\n",
    "\r\n",
    "from keras.models import Sequential\r\n",
    "from keras.layers import Dense\r\n",
    "from keras.layers import LSTM\r\n",
    "from keras.layers import Dropout"
   ],
   "outputs": [],
   "metadata": {}
  },
  {
   "cell_type": "code",
   "execution_count": 9,
   "source": [
    "\r\n",
    "regressor = Sequential()\r\n",
    "\r\n",
    "regressor.add(LSTM(units = 50, return_sequences = True, input_shape = (X_train.shape[1], 1)))\r\n",
    "regressor.add(Dropout(0.2))\r\n",
    "\r\n",
    "regressor.add(LSTM(units = 50, return_sequences = True))\r\n",
    "regressor.add(Dropout(0.2))\r\n",
    "\r\n",
    "regressor.add(LSTM(units = 50, return_sequences = True))\r\n",
    "regressor.add(Dropout(0.2))\r\n",
    "\r\n",
    "regressor.add(LSTM(units = 50))\r\n",
    "regressor.add(Dropout(0.2))\r\n",
    "\r\n",
    "regressor.add(Dense(units = 1))\r\n",
    "\r\n",
    "regressor.compile(optimizer = 'adam', loss = 'mean_squared_error')\r\n",
    "\r\n",
    "regressor.fit(X_train, y_train, epochs = 100, batch_size = 32)"
   ],
   "outputs": [
    {
     "output_type": "stream",
     "name": "stdout",
     "text": [
      "Epoch 1/100\n"
     ]
    },
    {
     "output_type": "error",
     "ename": "ValueError",
     "evalue": "in user code:\n\n    D:\\anaconda3\\lib\\site-packages\\tensorflow\\python\\keras\\engine\\training.py:806 train_function  *\n        return step_function(self, iterator)\n    D:\\anaconda3\\lib\\site-packages\\tensorflow\\python\\keras\\engine\\training.py:796 step_function  **\n        outputs = model.distribute_strategy.run(run_step, args=(data,))\n    D:\\anaconda3\\lib\\site-packages\\tensorflow\\python\\distribute\\distribute_lib.py:1211 run\n        return self._extended.call_for_each_replica(fn, args=args, kwargs=kwargs)\n    D:\\anaconda3\\lib\\site-packages\\tensorflow\\python\\distribute\\distribute_lib.py:2585 call_for_each_replica\n        return self._call_for_each_replica(fn, args, kwargs)\n    D:\\anaconda3\\lib\\site-packages\\tensorflow\\python\\distribute\\distribute_lib.py:2945 _call_for_each_replica\n        return fn(*args, **kwargs)\n    D:\\anaconda3\\lib\\site-packages\\tensorflow\\python\\keras\\engine\\training.py:789 run_step  **\n        outputs = model.train_step(data)\n    D:\\anaconda3\\lib\\site-packages\\tensorflow\\python\\keras\\engine\\training.py:747 train_step\n        y_pred = self(x, training=True)\n    D:\\anaconda3\\lib\\site-packages\\tensorflow\\python\\keras\\engine\\base_layer.py:975 __call__\n        input_spec.assert_input_compatibility(self.input_spec, inputs,\n    D:\\anaconda3\\lib\\site-packages\\tensorflow\\python\\keras\\engine\\input_spec.py:176 assert_input_compatibility\n        raise ValueError('Input ' + str(input_index) + ' of layer ' +\n\n    ValueError: Input 0 of layer sequential is incompatible with the layer: expected ndim=3, found ndim=2. Full shape received: [32, 11]\n",
     "traceback": [
      "\u001b[1;31m---------------------------------------------------------------------------\u001b[0m",
      "\u001b[1;31mValueError\u001b[0m                                Traceback (most recent call last)",
      "\u001b[1;32m<ipython-input-9-cdc97acbae98>\u001b[0m in \u001b[0;36m<module>\u001b[1;34m\u001b[0m\n\u001b[0;32m     17\u001b[0m \u001b[0mregressor\u001b[0m\u001b[1;33m.\u001b[0m\u001b[0mcompile\u001b[0m\u001b[1;33m(\u001b[0m\u001b[0moptimizer\u001b[0m \u001b[1;33m=\u001b[0m \u001b[1;34m'adam'\u001b[0m\u001b[1;33m,\u001b[0m \u001b[0mloss\u001b[0m \u001b[1;33m=\u001b[0m \u001b[1;34m'mean_squared_error'\u001b[0m\u001b[1;33m)\u001b[0m\u001b[1;33m\u001b[0m\u001b[1;33m\u001b[0m\u001b[0m\n\u001b[0;32m     18\u001b[0m \u001b[1;33m\u001b[0m\u001b[0m\n\u001b[1;32m---> 19\u001b[1;33m \u001b[0mregressor\u001b[0m\u001b[1;33m.\u001b[0m\u001b[0mfit\u001b[0m\u001b[1;33m(\u001b[0m\u001b[0mtrain_input\u001b[0m\u001b[1;33m,\u001b[0m \u001b[0mtrain_target\u001b[0m\u001b[1;33m,\u001b[0m \u001b[0mepochs\u001b[0m \u001b[1;33m=\u001b[0m \u001b[1;36m100\u001b[0m\u001b[1;33m,\u001b[0m \u001b[0mbatch_size\u001b[0m \u001b[1;33m=\u001b[0m \u001b[1;36m32\u001b[0m\u001b[1;33m)\u001b[0m\u001b[1;33m\u001b[0m\u001b[1;33m\u001b[0m\u001b[0m\n\u001b[0m",
      "\u001b[1;32mD:\\anaconda3\\lib\\site-packages\\tensorflow\\python\\keras\\engine\\training.py\u001b[0m in \u001b[0;36m_method_wrapper\u001b[1;34m(self, *args, **kwargs)\u001b[0m\n\u001b[0;32m    106\u001b[0m   \u001b[1;32mdef\u001b[0m \u001b[0m_method_wrapper\u001b[0m\u001b[1;33m(\u001b[0m\u001b[0mself\u001b[0m\u001b[1;33m,\u001b[0m \u001b[1;33m*\u001b[0m\u001b[0margs\u001b[0m\u001b[1;33m,\u001b[0m \u001b[1;33m**\u001b[0m\u001b[0mkwargs\u001b[0m\u001b[1;33m)\u001b[0m\u001b[1;33m:\u001b[0m\u001b[1;33m\u001b[0m\u001b[1;33m\u001b[0m\u001b[0m\n\u001b[0;32m    107\u001b[0m     \u001b[1;32mif\u001b[0m \u001b[1;32mnot\u001b[0m \u001b[0mself\u001b[0m\u001b[1;33m.\u001b[0m\u001b[0m_in_multi_worker_mode\u001b[0m\u001b[1;33m(\u001b[0m\u001b[1;33m)\u001b[0m\u001b[1;33m:\u001b[0m  \u001b[1;31m# pylint: disable=protected-access\u001b[0m\u001b[1;33m\u001b[0m\u001b[1;33m\u001b[0m\u001b[0m\n\u001b[1;32m--> 108\u001b[1;33m       \u001b[1;32mreturn\u001b[0m \u001b[0mmethod\u001b[0m\u001b[1;33m(\u001b[0m\u001b[0mself\u001b[0m\u001b[1;33m,\u001b[0m \u001b[1;33m*\u001b[0m\u001b[0margs\u001b[0m\u001b[1;33m,\u001b[0m \u001b[1;33m**\u001b[0m\u001b[0mkwargs\u001b[0m\u001b[1;33m)\u001b[0m\u001b[1;33m\u001b[0m\u001b[1;33m\u001b[0m\u001b[0m\n\u001b[0m\u001b[0;32m    109\u001b[0m \u001b[1;33m\u001b[0m\u001b[0m\n\u001b[0;32m    110\u001b[0m     \u001b[1;31m# Running inside `run_distribute_coordinator` already.\u001b[0m\u001b[1;33m\u001b[0m\u001b[1;33m\u001b[0m\u001b[1;33m\u001b[0m\u001b[0m\n",
      "\u001b[1;32mD:\\anaconda3\\lib\\site-packages\\tensorflow\\python\\keras\\engine\\training.py\u001b[0m in \u001b[0;36mfit\u001b[1;34m(self, x, y, batch_size, epochs, verbose, callbacks, validation_split, validation_data, shuffle, class_weight, sample_weight, initial_epoch, steps_per_epoch, validation_steps, validation_batch_size, validation_freq, max_queue_size, workers, use_multiprocessing)\u001b[0m\n\u001b[0;32m   1096\u001b[0m                 batch_size=batch_size):\n\u001b[0;32m   1097\u001b[0m               \u001b[0mcallbacks\u001b[0m\u001b[1;33m.\u001b[0m\u001b[0mon_train_batch_begin\u001b[0m\u001b[1;33m(\u001b[0m\u001b[0mstep\u001b[0m\u001b[1;33m)\u001b[0m\u001b[1;33m\u001b[0m\u001b[1;33m\u001b[0m\u001b[0m\n\u001b[1;32m-> 1098\u001b[1;33m               \u001b[0mtmp_logs\u001b[0m \u001b[1;33m=\u001b[0m \u001b[0mtrain_function\u001b[0m\u001b[1;33m(\u001b[0m\u001b[0miterator\u001b[0m\u001b[1;33m)\u001b[0m\u001b[1;33m\u001b[0m\u001b[1;33m\u001b[0m\u001b[0m\n\u001b[0m\u001b[0;32m   1099\u001b[0m               \u001b[1;32mif\u001b[0m \u001b[0mdata_handler\u001b[0m\u001b[1;33m.\u001b[0m\u001b[0mshould_sync\u001b[0m\u001b[1;33m:\u001b[0m\u001b[1;33m\u001b[0m\u001b[1;33m\u001b[0m\u001b[0m\n\u001b[0;32m   1100\u001b[0m                 \u001b[0mcontext\u001b[0m\u001b[1;33m.\u001b[0m\u001b[0masync_wait\u001b[0m\u001b[1;33m(\u001b[0m\u001b[1;33m)\u001b[0m\u001b[1;33m\u001b[0m\u001b[1;33m\u001b[0m\u001b[0m\n",
      "\u001b[1;32mD:\\anaconda3\\lib\\site-packages\\tensorflow\\python\\eager\\def_function.py\u001b[0m in \u001b[0;36m__call__\u001b[1;34m(self, *args, **kwds)\u001b[0m\n\u001b[0;32m    778\u001b[0m       \u001b[1;32melse\u001b[0m\u001b[1;33m:\u001b[0m\u001b[1;33m\u001b[0m\u001b[1;33m\u001b[0m\u001b[0m\n\u001b[0;32m    779\u001b[0m         \u001b[0mcompiler\u001b[0m \u001b[1;33m=\u001b[0m \u001b[1;34m\"nonXla\"\u001b[0m\u001b[1;33m\u001b[0m\u001b[1;33m\u001b[0m\u001b[0m\n\u001b[1;32m--> 780\u001b[1;33m         \u001b[0mresult\u001b[0m \u001b[1;33m=\u001b[0m \u001b[0mself\u001b[0m\u001b[1;33m.\u001b[0m\u001b[0m_call\u001b[0m\u001b[1;33m(\u001b[0m\u001b[1;33m*\u001b[0m\u001b[0margs\u001b[0m\u001b[1;33m,\u001b[0m \u001b[1;33m**\u001b[0m\u001b[0mkwds\u001b[0m\u001b[1;33m)\u001b[0m\u001b[1;33m\u001b[0m\u001b[1;33m\u001b[0m\u001b[0m\n\u001b[0m\u001b[0;32m    781\u001b[0m \u001b[1;33m\u001b[0m\u001b[0m\n\u001b[0;32m    782\u001b[0m       \u001b[0mnew_tracing_count\u001b[0m \u001b[1;33m=\u001b[0m \u001b[0mself\u001b[0m\u001b[1;33m.\u001b[0m\u001b[0m_get_tracing_count\u001b[0m\u001b[1;33m(\u001b[0m\u001b[1;33m)\u001b[0m\u001b[1;33m\u001b[0m\u001b[1;33m\u001b[0m\u001b[0m\n",
      "\u001b[1;32mD:\\anaconda3\\lib\\site-packages\\tensorflow\\python\\eager\\def_function.py\u001b[0m in \u001b[0;36m_call\u001b[1;34m(self, *args, **kwds)\u001b[0m\n\u001b[0;32m    821\u001b[0m       \u001b[1;31m# This is the first call of __call__, so we have to initialize.\u001b[0m\u001b[1;33m\u001b[0m\u001b[1;33m\u001b[0m\u001b[1;33m\u001b[0m\u001b[0m\n\u001b[0;32m    822\u001b[0m       \u001b[0minitializers\u001b[0m \u001b[1;33m=\u001b[0m \u001b[1;33m[\u001b[0m\u001b[1;33m]\u001b[0m\u001b[1;33m\u001b[0m\u001b[1;33m\u001b[0m\u001b[0m\n\u001b[1;32m--> 823\u001b[1;33m       \u001b[0mself\u001b[0m\u001b[1;33m.\u001b[0m\u001b[0m_initialize\u001b[0m\u001b[1;33m(\u001b[0m\u001b[0margs\u001b[0m\u001b[1;33m,\u001b[0m \u001b[0mkwds\u001b[0m\u001b[1;33m,\u001b[0m \u001b[0madd_initializers_to\u001b[0m\u001b[1;33m=\u001b[0m\u001b[0minitializers\u001b[0m\u001b[1;33m)\u001b[0m\u001b[1;33m\u001b[0m\u001b[1;33m\u001b[0m\u001b[0m\n\u001b[0m\u001b[0;32m    824\u001b[0m     \u001b[1;32mfinally\u001b[0m\u001b[1;33m:\u001b[0m\u001b[1;33m\u001b[0m\u001b[1;33m\u001b[0m\u001b[0m\n\u001b[0;32m    825\u001b[0m       \u001b[1;31m# At this point we know that the initialization is complete (or less\u001b[0m\u001b[1;33m\u001b[0m\u001b[1;33m\u001b[0m\u001b[1;33m\u001b[0m\u001b[0m\n",
      "\u001b[1;32mD:\\anaconda3\\lib\\site-packages\\tensorflow\\python\\eager\\def_function.py\u001b[0m in \u001b[0;36m_initialize\u001b[1;34m(self, args, kwds, add_initializers_to)\u001b[0m\n\u001b[0;32m    694\u001b[0m     \u001b[0mself\u001b[0m\u001b[1;33m.\u001b[0m\u001b[0m_graph_deleter\u001b[0m \u001b[1;33m=\u001b[0m \u001b[0mFunctionDeleter\u001b[0m\u001b[1;33m(\u001b[0m\u001b[0mself\u001b[0m\u001b[1;33m.\u001b[0m\u001b[0m_lifted_initializer_graph\u001b[0m\u001b[1;33m)\u001b[0m\u001b[1;33m\u001b[0m\u001b[1;33m\u001b[0m\u001b[0m\n\u001b[0;32m    695\u001b[0m     self._concrete_stateful_fn = (\n\u001b[1;32m--> 696\u001b[1;33m         self._stateful_fn._get_concrete_function_internal_garbage_collected(  # pylint: disable=protected-access\n\u001b[0m\u001b[0;32m    697\u001b[0m             *args, **kwds))\n\u001b[0;32m    698\u001b[0m \u001b[1;33m\u001b[0m\u001b[0m\n",
      "\u001b[1;32mD:\\anaconda3\\lib\\site-packages\\tensorflow\\python\\eager\\function.py\u001b[0m in \u001b[0;36m_get_concrete_function_internal_garbage_collected\u001b[1;34m(self, *args, **kwargs)\u001b[0m\n\u001b[0;32m   2853\u001b[0m       \u001b[0margs\u001b[0m\u001b[1;33m,\u001b[0m \u001b[0mkwargs\u001b[0m \u001b[1;33m=\u001b[0m \u001b[1;32mNone\u001b[0m\u001b[1;33m,\u001b[0m \u001b[1;32mNone\u001b[0m\u001b[1;33m\u001b[0m\u001b[1;33m\u001b[0m\u001b[0m\n\u001b[0;32m   2854\u001b[0m     \u001b[1;32mwith\u001b[0m \u001b[0mself\u001b[0m\u001b[1;33m.\u001b[0m\u001b[0m_lock\u001b[0m\u001b[1;33m:\u001b[0m\u001b[1;33m\u001b[0m\u001b[1;33m\u001b[0m\u001b[0m\n\u001b[1;32m-> 2855\u001b[1;33m       \u001b[0mgraph_function\u001b[0m\u001b[1;33m,\u001b[0m \u001b[0m_\u001b[0m\u001b[1;33m,\u001b[0m \u001b[0m_\u001b[0m \u001b[1;33m=\u001b[0m \u001b[0mself\u001b[0m\u001b[1;33m.\u001b[0m\u001b[0m_maybe_define_function\u001b[0m\u001b[1;33m(\u001b[0m\u001b[0margs\u001b[0m\u001b[1;33m,\u001b[0m \u001b[0mkwargs\u001b[0m\u001b[1;33m)\u001b[0m\u001b[1;33m\u001b[0m\u001b[1;33m\u001b[0m\u001b[0m\n\u001b[0m\u001b[0;32m   2856\u001b[0m     \u001b[1;32mreturn\u001b[0m \u001b[0mgraph_function\u001b[0m\u001b[1;33m\u001b[0m\u001b[1;33m\u001b[0m\u001b[0m\n\u001b[0;32m   2857\u001b[0m \u001b[1;33m\u001b[0m\u001b[0m\n",
      "\u001b[1;32mD:\\anaconda3\\lib\\site-packages\\tensorflow\\python\\eager\\function.py\u001b[0m in \u001b[0;36m_maybe_define_function\u001b[1;34m(self, args, kwargs)\u001b[0m\n\u001b[0;32m   3211\u001b[0m \u001b[1;33m\u001b[0m\u001b[0m\n\u001b[0;32m   3212\u001b[0m       \u001b[0mself\u001b[0m\u001b[1;33m.\u001b[0m\u001b[0m_function_cache\u001b[0m\u001b[1;33m.\u001b[0m\u001b[0mmissed\u001b[0m\u001b[1;33m.\u001b[0m\u001b[0madd\u001b[0m\u001b[1;33m(\u001b[0m\u001b[0mcall_context_key\u001b[0m\u001b[1;33m)\u001b[0m\u001b[1;33m\u001b[0m\u001b[1;33m\u001b[0m\u001b[0m\n\u001b[1;32m-> 3213\u001b[1;33m       \u001b[0mgraph_function\u001b[0m \u001b[1;33m=\u001b[0m \u001b[0mself\u001b[0m\u001b[1;33m.\u001b[0m\u001b[0m_create_graph_function\u001b[0m\u001b[1;33m(\u001b[0m\u001b[0margs\u001b[0m\u001b[1;33m,\u001b[0m \u001b[0mkwargs\u001b[0m\u001b[1;33m)\u001b[0m\u001b[1;33m\u001b[0m\u001b[1;33m\u001b[0m\u001b[0m\n\u001b[0m\u001b[0;32m   3214\u001b[0m       \u001b[0mself\u001b[0m\u001b[1;33m.\u001b[0m\u001b[0m_function_cache\u001b[0m\u001b[1;33m.\u001b[0m\u001b[0mprimary\u001b[0m\u001b[1;33m[\u001b[0m\u001b[0mcache_key\u001b[0m\u001b[1;33m]\u001b[0m \u001b[1;33m=\u001b[0m \u001b[0mgraph_function\u001b[0m\u001b[1;33m\u001b[0m\u001b[1;33m\u001b[0m\u001b[0m\n\u001b[0;32m   3215\u001b[0m       \u001b[1;32mreturn\u001b[0m \u001b[0mgraph_function\u001b[0m\u001b[1;33m,\u001b[0m \u001b[0margs\u001b[0m\u001b[1;33m,\u001b[0m \u001b[0mkwargs\u001b[0m\u001b[1;33m\u001b[0m\u001b[1;33m\u001b[0m\u001b[0m\n",
      "\u001b[1;32mD:\\anaconda3\\lib\\site-packages\\tensorflow\\python\\eager\\function.py\u001b[0m in \u001b[0;36m_create_graph_function\u001b[1;34m(self, args, kwargs, override_flat_arg_shapes)\u001b[0m\n\u001b[0;32m   3063\u001b[0m     \u001b[0marg_names\u001b[0m \u001b[1;33m=\u001b[0m \u001b[0mbase_arg_names\u001b[0m \u001b[1;33m+\u001b[0m \u001b[0mmissing_arg_names\u001b[0m\u001b[1;33m\u001b[0m\u001b[1;33m\u001b[0m\u001b[0m\n\u001b[0;32m   3064\u001b[0m     graph_function = ConcreteFunction(\n\u001b[1;32m-> 3065\u001b[1;33m         func_graph_module.func_graph_from_py_func(\n\u001b[0m\u001b[0;32m   3066\u001b[0m             \u001b[0mself\u001b[0m\u001b[1;33m.\u001b[0m\u001b[0m_name\u001b[0m\u001b[1;33m,\u001b[0m\u001b[1;33m\u001b[0m\u001b[1;33m\u001b[0m\u001b[0m\n\u001b[0;32m   3067\u001b[0m             \u001b[0mself\u001b[0m\u001b[1;33m.\u001b[0m\u001b[0m_python_function\u001b[0m\u001b[1;33m,\u001b[0m\u001b[1;33m\u001b[0m\u001b[1;33m\u001b[0m\u001b[0m\n",
      "\u001b[1;32mD:\\anaconda3\\lib\\site-packages\\tensorflow\\python\\framework\\func_graph.py\u001b[0m in \u001b[0;36mfunc_graph_from_py_func\u001b[1;34m(name, python_func, args, kwargs, signature, func_graph, autograph, autograph_options, add_control_dependencies, arg_names, op_return_value, collections, capture_by_value, override_flat_arg_shapes)\u001b[0m\n\u001b[0;32m    984\u001b[0m         \u001b[0m_\u001b[0m\u001b[1;33m,\u001b[0m \u001b[0moriginal_func\u001b[0m \u001b[1;33m=\u001b[0m \u001b[0mtf_decorator\u001b[0m\u001b[1;33m.\u001b[0m\u001b[0munwrap\u001b[0m\u001b[1;33m(\u001b[0m\u001b[0mpython_func\u001b[0m\u001b[1;33m)\u001b[0m\u001b[1;33m\u001b[0m\u001b[1;33m\u001b[0m\u001b[0m\n\u001b[0;32m    985\u001b[0m \u001b[1;33m\u001b[0m\u001b[0m\n\u001b[1;32m--> 986\u001b[1;33m       \u001b[0mfunc_outputs\u001b[0m \u001b[1;33m=\u001b[0m \u001b[0mpython_func\u001b[0m\u001b[1;33m(\u001b[0m\u001b[1;33m*\u001b[0m\u001b[0mfunc_args\u001b[0m\u001b[1;33m,\u001b[0m \u001b[1;33m**\u001b[0m\u001b[0mfunc_kwargs\u001b[0m\u001b[1;33m)\u001b[0m\u001b[1;33m\u001b[0m\u001b[1;33m\u001b[0m\u001b[0m\n\u001b[0m\u001b[0;32m    987\u001b[0m \u001b[1;33m\u001b[0m\u001b[0m\n\u001b[0;32m    988\u001b[0m       \u001b[1;31m# invariant: `func_outputs` contains only Tensors, CompositeTensors,\u001b[0m\u001b[1;33m\u001b[0m\u001b[1;33m\u001b[0m\u001b[1;33m\u001b[0m\u001b[0m\n",
      "\u001b[1;32mD:\\anaconda3\\lib\\site-packages\\tensorflow\\python\\eager\\def_function.py\u001b[0m in \u001b[0;36mwrapped_fn\u001b[1;34m(*args, **kwds)\u001b[0m\n\u001b[0;32m    598\u001b[0m         \u001b[1;31m# __wrapped__ allows AutoGraph to swap in a converted function. We give\u001b[0m\u001b[1;33m\u001b[0m\u001b[1;33m\u001b[0m\u001b[1;33m\u001b[0m\u001b[0m\n\u001b[0;32m    599\u001b[0m         \u001b[1;31m# the function a weak reference to itself to avoid a reference cycle.\u001b[0m\u001b[1;33m\u001b[0m\u001b[1;33m\u001b[0m\u001b[1;33m\u001b[0m\u001b[0m\n\u001b[1;32m--> 600\u001b[1;33m         \u001b[1;32mreturn\u001b[0m \u001b[0mweak_wrapped_fn\u001b[0m\u001b[1;33m(\u001b[0m\u001b[1;33m)\u001b[0m\u001b[1;33m.\u001b[0m\u001b[0m__wrapped__\u001b[0m\u001b[1;33m(\u001b[0m\u001b[1;33m*\u001b[0m\u001b[0margs\u001b[0m\u001b[1;33m,\u001b[0m \u001b[1;33m**\u001b[0m\u001b[0mkwds\u001b[0m\u001b[1;33m)\u001b[0m\u001b[1;33m\u001b[0m\u001b[1;33m\u001b[0m\u001b[0m\n\u001b[0m\u001b[0;32m    601\u001b[0m     \u001b[0mweak_wrapped_fn\u001b[0m \u001b[1;33m=\u001b[0m \u001b[0mweakref\u001b[0m\u001b[1;33m.\u001b[0m\u001b[0mref\u001b[0m\u001b[1;33m(\u001b[0m\u001b[0mwrapped_fn\u001b[0m\u001b[1;33m)\u001b[0m\u001b[1;33m\u001b[0m\u001b[1;33m\u001b[0m\u001b[0m\n\u001b[0;32m    602\u001b[0m \u001b[1;33m\u001b[0m\u001b[0m\n",
      "\u001b[1;32mD:\\anaconda3\\lib\\site-packages\\tensorflow\\python\\framework\\func_graph.py\u001b[0m in \u001b[0;36mwrapper\u001b[1;34m(*args, **kwargs)\u001b[0m\n\u001b[0;32m    971\u001b[0m           \u001b[1;32mexcept\u001b[0m \u001b[0mException\u001b[0m \u001b[1;32mas\u001b[0m \u001b[0me\u001b[0m\u001b[1;33m:\u001b[0m  \u001b[1;31m# pylint:disable=broad-except\u001b[0m\u001b[1;33m\u001b[0m\u001b[1;33m\u001b[0m\u001b[0m\n\u001b[0;32m    972\u001b[0m             \u001b[1;32mif\u001b[0m \u001b[0mhasattr\u001b[0m\u001b[1;33m(\u001b[0m\u001b[0me\u001b[0m\u001b[1;33m,\u001b[0m \u001b[1;34m\"ag_error_metadata\"\u001b[0m\u001b[1;33m)\u001b[0m\u001b[1;33m:\u001b[0m\u001b[1;33m\u001b[0m\u001b[1;33m\u001b[0m\u001b[0m\n\u001b[1;32m--> 973\u001b[1;33m               \u001b[1;32mraise\u001b[0m \u001b[0me\u001b[0m\u001b[1;33m.\u001b[0m\u001b[0mag_error_metadata\u001b[0m\u001b[1;33m.\u001b[0m\u001b[0mto_exception\u001b[0m\u001b[1;33m(\u001b[0m\u001b[0me\u001b[0m\u001b[1;33m)\u001b[0m\u001b[1;33m\u001b[0m\u001b[1;33m\u001b[0m\u001b[0m\n\u001b[0m\u001b[0;32m    974\u001b[0m             \u001b[1;32melse\u001b[0m\u001b[1;33m:\u001b[0m\u001b[1;33m\u001b[0m\u001b[1;33m\u001b[0m\u001b[0m\n\u001b[0;32m    975\u001b[0m               \u001b[1;32mraise\u001b[0m\u001b[1;33m\u001b[0m\u001b[1;33m\u001b[0m\u001b[0m\n",
      "\u001b[1;31mValueError\u001b[0m: in user code:\n\n    D:\\anaconda3\\lib\\site-packages\\tensorflow\\python\\keras\\engine\\training.py:806 train_function  *\n        return step_function(self, iterator)\n    D:\\anaconda3\\lib\\site-packages\\tensorflow\\python\\keras\\engine\\training.py:796 step_function  **\n        outputs = model.distribute_strategy.run(run_step, args=(data,))\n    D:\\anaconda3\\lib\\site-packages\\tensorflow\\python\\distribute\\distribute_lib.py:1211 run\n        return self._extended.call_for_each_replica(fn, args=args, kwargs=kwargs)\n    D:\\anaconda3\\lib\\site-packages\\tensorflow\\python\\distribute\\distribute_lib.py:2585 call_for_each_replica\n        return self._call_for_each_replica(fn, args, kwargs)\n    D:\\anaconda3\\lib\\site-packages\\tensorflow\\python\\distribute\\distribute_lib.py:2945 _call_for_each_replica\n        return fn(*args, **kwargs)\n    D:\\anaconda3\\lib\\site-packages\\tensorflow\\python\\keras\\engine\\training.py:789 run_step  **\n        outputs = model.train_step(data)\n    D:\\anaconda3\\lib\\site-packages\\tensorflow\\python\\keras\\engine\\training.py:747 train_step\n        y_pred = self(x, training=True)\n    D:\\anaconda3\\lib\\site-packages\\tensorflow\\python\\keras\\engine\\base_layer.py:975 __call__\n        input_spec.assert_input_compatibility(self.input_spec, inputs,\n    D:\\anaconda3\\lib\\site-packages\\tensorflow\\python\\keras\\engine\\input_spec.py:176 assert_input_compatibility\n        raise ValueError('Input ' + str(input_index) + ' of layer ' +\n\n    ValueError: Input 0 of layer sequential is incompatible with the layer: expected ndim=3, found ndim=2. Full shape received: [32, 11]\n"
     ]
    }
   ],
   "metadata": {}
  },
  {
   "cell_type": "code",
   "execution_count": null,
   "source": [
    "predicted_stock_price = regressor.predict(test_input)"
   ],
   "outputs": [],
   "metadata": {}
  },
  {
   "cell_type": "code",
   "execution_count": null,
   "source": [
    "predicted = regressor.predict(test_input)\r\n",
    "\r\n",
    "fig, ax = plt.subplots()\r\n",
    "ax.scatter(test_target, predicted)\r\n",
    "\r\n",
    "ax.set_xlabel('True Values')\r\n",
    "ax.set_ylabel('Predicted')\r\n"
   ],
   "outputs": [],
   "metadata": {}
  },
  {
   "cell_type": "code",
   "execution_count": null,
   "source": [
    "print(\"r2 score: {}\".format(metrics.r2_score( test_target, predicted)))\r\n",
    "print(\"mse: {}\".format(metrics.mean_squared_error( test_target, predicted)))\r\n",
    "print(\"rmse: {}\".format(np.sqrt(metrics.mean_squared_error(test_target, predicted))))\r\n",
    "print(\"mae: {}\".format(metrics.mean_absolute_error(test_target, predicted)))"
   ],
   "outputs": [],
   "metadata": {}
  },
  {
   "cell_type": "code",
   "execution_count": null,
   "source": [],
   "outputs": [],
   "metadata": {}
  },
  {
   "cell_type": "markdown",
   "source": [
    "2.6 Create a 3D input dataset\n",
    "LSTM, GRU and BiLSTM take a 3D input (num_samples, num_timesteps, num_features). So, I create a helper function, create_dataset, to reshape input.\n",
    "In this project, I define time_steps = 30. It means that the model makes predictions based on the last 30-day data (In the first iteration of the for-loop, the input carries the first 30 days and the output is UWC on the 30th day)."
   ],
   "metadata": {}
  },
  {
   "cell_type": "code",
   "execution_count": null,
   "source": [
    "\r\n",
    "# train_input, test_input, train_target, test_target\r\n",
    "len(train_input)"
   ],
   "outputs": [],
   "metadata": {}
  },
  {
   "cell_type": "code",
   "execution_count": 12,
   "source": [
    "# Create a 3D input\r\n",
    "def create_dataset (X, y, time_steps = 1):\r\n",
    "    Xs, ys = [], []\r\n",
    "    for i in range(len(X)-time_steps):\r\n",
    "        v = X[i:i+time_steps, :]\r\n",
    "        Xs.append(v)\r\n",
    "        ys.append(y[i+time_steps])\r\n",
    "#     return np.array(Xs), np.array(ys)\r\n",
    "    return Xs, ys\r\n",
    "\r\n",
    "\r\n",
    "TIME_STEPS = 1\r\n",
    "X_test, y_test = create_dataset(test_input, test_target,   \r\n",
    "#                                 TIME_STEPS\r\n",
    "                               )\r\n",
    "X_train, y_train = create_dataset(train_input, train_target, \r\n",
    "#                                   TIME_STEPS\r\n",
    "                                 )\r\n",
    "print('X_train.shape: ', X_test.shape)\r\n",
    "print('y_train.shape: ', y_train.shape)\r\n",
    "print('X_test.shape: ', X_test.shape)\r\n",
    "print('y_test.shape: ', y_train.shape)"
   ],
   "outputs": [
    {
     "output_type": "error",
     "ename": "TypeError",
     "evalue": "'(slice(0, 1, None), slice(None, None, None))' is an invalid key",
     "traceback": [
      "\u001b[1;31m---------------------------------------------------------------------------\u001b[0m",
      "\u001b[1;31mTypeError\u001b[0m                                 Traceback (most recent call last)",
      "\u001b[1;32m<ipython-input-12-ce9c33f316fe>\u001b[0m in \u001b[0;36m<module>\u001b[1;34m\u001b[0m\n\u001b[0;32m     11\u001b[0m \u001b[1;33m\u001b[0m\u001b[0m\n\u001b[0;32m     12\u001b[0m \u001b[0mTIME_STEPS\u001b[0m \u001b[1;33m=\u001b[0m \u001b[1;36m1\u001b[0m\u001b[1;33m\u001b[0m\u001b[1;33m\u001b[0m\u001b[0m\n\u001b[1;32m---> 13\u001b[1;33m X_test, y_test = create_dataset(test_input, test_target,   \n\u001b[0m\u001b[0;32m     14\u001b[0m \u001b[1;31m#                                 TIME_STEPS\u001b[0m\u001b[1;33m\u001b[0m\u001b[1;33m\u001b[0m\u001b[1;33m\u001b[0m\u001b[0m\n\u001b[0;32m     15\u001b[0m                                )\n",
      "\u001b[1;32m<ipython-input-12-ce9c33f316fe>\u001b[0m in \u001b[0;36mcreate_dataset\u001b[1;34m(X, y, time_steps)\u001b[0m\n\u001b[0;32m      3\u001b[0m     \u001b[0mXs\u001b[0m\u001b[1;33m,\u001b[0m \u001b[0mys\u001b[0m \u001b[1;33m=\u001b[0m \u001b[1;33m[\u001b[0m\u001b[1;33m]\u001b[0m\u001b[1;33m,\u001b[0m \u001b[1;33m[\u001b[0m\u001b[1;33m]\u001b[0m\u001b[1;33m\u001b[0m\u001b[1;33m\u001b[0m\u001b[0m\n\u001b[0;32m      4\u001b[0m     \u001b[1;32mfor\u001b[0m \u001b[0mi\u001b[0m \u001b[1;32min\u001b[0m \u001b[0mrange\u001b[0m\u001b[1;33m(\u001b[0m\u001b[0mlen\u001b[0m\u001b[1;33m(\u001b[0m\u001b[0mX\u001b[0m\u001b[1;33m)\u001b[0m\u001b[1;33m-\u001b[0m\u001b[0mtime_steps\u001b[0m\u001b[1;33m)\u001b[0m\u001b[1;33m:\u001b[0m\u001b[1;33m\u001b[0m\u001b[1;33m\u001b[0m\u001b[0m\n\u001b[1;32m----> 5\u001b[1;33m         \u001b[0mv\u001b[0m \u001b[1;33m=\u001b[0m \u001b[0mX\u001b[0m\u001b[1;33m[\u001b[0m\u001b[0mi\u001b[0m\u001b[1;33m:\u001b[0m\u001b[0mi\u001b[0m\u001b[1;33m+\u001b[0m\u001b[0mtime_steps\u001b[0m\u001b[1;33m,\u001b[0m \u001b[1;33m:\u001b[0m\u001b[1;33m]\u001b[0m\u001b[1;33m\u001b[0m\u001b[1;33m\u001b[0m\u001b[0m\n\u001b[0m\u001b[0;32m      6\u001b[0m         \u001b[0mXs\u001b[0m\u001b[1;33m.\u001b[0m\u001b[0mappend\u001b[0m\u001b[1;33m(\u001b[0m\u001b[0mv\u001b[0m\u001b[1;33m)\u001b[0m\u001b[1;33m\u001b[0m\u001b[1;33m\u001b[0m\u001b[0m\n\u001b[0;32m      7\u001b[0m         \u001b[0mys\u001b[0m\u001b[1;33m.\u001b[0m\u001b[0mappend\u001b[0m\u001b[1;33m(\u001b[0m\u001b[0my\u001b[0m\u001b[1;33m[\u001b[0m\u001b[0mi\u001b[0m\u001b[1;33m+\u001b[0m\u001b[0mtime_steps\u001b[0m\u001b[1;33m]\u001b[0m\u001b[1;33m)\u001b[0m\u001b[1;33m\u001b[0m\u001b[1;33m\u001b[0m\u001b[0m\n",
      "\u001b[1;32mD:\\anaconda3\\lib\\site-packages\\pandas\\core\\frame.py\u001b[0m in \u001b[0;36m__getitem__\u001b[1;34m(self, key)\u001b[0m\n\u001b[0;32m   2900\u001b[0m             \u001b[1;32mif\u001b[0m \u001b[0mself\u001b[0m\u001b[1;33m.\u001b[0m\u001b[0mcolumns\u001b[0m\u001b[1;33m.\u001b[0m\u001b[0mnlevels\u001b[0m \u001b[1;33m>\u001b[0m \u001b[1;36m1\u001b[0m\u001b[1;33m:\u001b[0m\u001b[1;33m\u001b[0m\u001b[1;33m\u001b[0m\u001b[0m\n\u001b[0;32m   2901\u001b[0m                 \u001b[1;32mreturn\u001b[0m \u001b[0mself\u001b[0m\u001b[1;33m.\u001b[0m\u001b[0m_getitem_multilevel\u001b[0m\u001b[1;33m(\u001b[0m\u001b[0mkey\u001b[0m\u001b[1;33m)\u001b[0m\u001b[1;33m\u001b[0m\u001b[1;33m\u001b[0m\u001b[0m\n\u001b[1;32m-> 2902\u001b[1;33m             \u001b[0mindexer\u001b[0m \u001b[1;33m=\u001b[0m \u001b[0mself\u001b[0m\u001b[1;33m.\u001b[0m\u001b[0mcolumns\u001b[0m\u001b[1;33m.\u001b[0m\u001b[0mget_loc\u001b[0m\u001b[1;33m(\u001b[0m\u001b[0mkey\u001b[0m\u001b[1;33m)\u001b[0m\u001b[1;33m\u001b[0m\u001b[1;33m\u001b[0m\u001b[0m\n\u001b[0m\u001b[0;32m   2903\u001b[0m             \u001b[1;32mif\u001b[0m \u001b[0mis_integer\u001b[0m\u001b[1;33m(\u001b[0m\u001b[0mindexer\u001b[0m\u001b[1;33m)\u001b[0m\u001b[1;33m:\u001b[0m\u001b[1;33m\u001b[0m\u001b[1;33m\u001b[0m\u001b[0m\n\u001b[0;32m   2904\u001b[0m                 \u001b[0mindexer\u001b[0m \u001b[1;33m=\u001b[0m \u001b[1;33m[\u001b[0m\u001b[0mindexer\u001b[0m\u001b[1;33m]\u001b[0m\u001b[1;33m\u001b[0m\u001b[1;33m\u001b[0m\u001b[0m\n",
      "\u001b[1;32mD:\\anaconda3\\lib\\site-packages\\pandas\\core\\indexes\\base.py\u001b[0m in \u001b[0;36mget_loc\u001b[1;34m(self, key, method, tolerance)\u001b[0m\n\u001b[0;32m   2893\u001b[0m             \u001b[0mcasted_key\u001b[0m \u001b[1;33m=\u001b[0m \u001b[0mself\u001b[0m\u001b[1;33m.\u001b[0m\u001b[0m_maybe_cast_indexer\u001b[0m\u001b[1;33m(\u001b[0m\u001b[0mkey\u001b[0m\u001b[1;33m)\u001b[0m\u001b[1;33m\u001b[0m\u001b[1;33m\u001b[0m\u001b[0m\n\u001b[0;32m   2894\u001b[0m             \u001b[1;32mtry\u001b[0m\u001b[1;33m:\u001b[0m\u001b[1;33m\u001b[0m\u001b[1;33m\u001b[0m\u001b[0m\n\u001b[1;32m-> 2895\u001b[1;33m                 \u001b[1;32mreturn\u001b[0m \u001b[0mself\u001b[0m\u001b[1;33m.\u001b[0m\u001b[0m_engine\u001b[0m\u001b[1;33m.\u001b[0m\u001b[0mget_loc\u001b[0m\u001b[1;33m(\u001b[0m\u001b[0mcasted_key\u001b[0m\u001b[1;33m)\u001b[0m\u001b[1;33m\u001b[0m\u001b[1;33m\u001b[0m\u001b[0m\n\u001b[0m\u001b[0;32m   2896\u001b[0m             \u001b[1;32mexcept\u001b[0m \u001b[0mKeyError\u001b[0m \u001b[1;32mas\u001b[0m \u001b[0merr\u001b[0m\u001b[1;33m:\u001b[0m\u001b[1;33m\u001b[0m\u001b[1;33m\u001b[0m\u001b[0m\n\u001b[0;32m   2897\u001b[0m                 \u001b[1;32mraise\u001b[0m \u001b[0mKeyError\u001b[0m\u001b[1;33m(\u001b[0m\u001b[0mkey\u001b[0m\u001b[1;33m)\u001b[0m \u001b[1;32mfrom\u001b[0m \u001b[0merr\u001b[0m\u001b[1;33m\u001b[0m\u001b[1;33m\u001b[0m\u001b[0m\n",
      "\u001b[1;32mpandas\\_libs\\index.pyx\u001b[0m in \u001b[0;36mpandas._libs.index.IndexEngine.get_loc\u001b[1;34m()\u001b[0m\n",
      "\u001b[1;32mpandas\\_libs\\index.pyx\u001b[0m in \u001b[0;36mpandas._libs.index.IndexEngine.get_loc\u001b[1;34m()\u001b[0m\n",
      "\u001b[1;31mTypeError\u001b[0m: '(slice(0, 1, None), slice(None, None, None))' is an invalid key"
     ]
    }
   ],
   "metadata": {}
  },
  {
   "cell_type": "markdown",
   "source": [
    "Step 3: Create BiLSTM, LSTM and GRU models\n",
    "\n",
    "3.1 BiLSTM, LSTM and GRU models in TensorFlow\n",
    "\n",
    "The first function, create_model_bilstm, creates a BDLSM and gets the number of units (neurons) in hidden layers. The second function, create_model, gets two inputs; number of units in hidden layers and model name (LSTM or GRU).\n",
    "For the sake of simplicity, BiLSTM, LSTM and GRU have 64 neurons in the input layer, one hidden layer including 64 neurons and 1 neuron in the output layer.\n",
    "To make the LSTM and GRU model robust to changes, the Dropout function is used. Dropout(0.2) randomly drops 20% of units from the network."
   ],
   "metadata": {}
  },
  {
   "cell_type": "code",
   "execution_count": null,
   "source": [
    "# Create BiLSTM model\r\n",
    "def create_model_bilstm(units):\r\n",
    "    model = Sequential()\r\n",
    "    model.add(Bidirectional(LSTM(units = units,                             \r\n",
    "              return_sequences=True),\r\n",
    "              input_shape=(X_train.shape[1], X_train.shape[2])))\r\n",
    "    model.add(Bidirectional(LSTM(units = units)))\r\n",
    "    model.add(Dense(1))\r\n",
    "    #Compile model\r\n",
    "    model.compile(loss='mse', optimizer='adam')\r\n",
    "    return model\r\n",
    "# Create LSTM or GRU model\r\n",
    "def create_model(units, m):\r\n",
    "    model = Sequential()\r\n",
    "    model.add(m (units = units, return_sequences = True,\r\n",
    "                input_shape = [X_train.shape[1], X_train.shape[2]]))\r\n",
    "    model.add(Dropout(0.2))\r\n",
    "    model.add(m (units = units))\r\n",
    "    model.add(Dropout(0.2))\r\n",
    "    model.add(Dense(units = 1))\r\n",
    "    #Compile model\r\n",
    "    model.compile(loss='mse', optimizer='adam')\r\n",
    "    return model\r\n",
    "# BiLSTM\r\n",
    "model_bilstm = create_model_bilstm(64)\r\n",
    "# GRU and LSTM\r\n",
    "model_gru = create_model(64, GRU)\r\n",
    "model_lstm = create_model(64, LSTM)"
   ],
   "outputs": [],
   "metadata": {}
  },
  {
   "cell_type": "markdown",
   "source": [
    "3.2 Fit the models\n",
    "\n",
    "I train the model with train data for 100 epoch and batch_size = 32. I get the model to use 20% of train data as validation data. I set shuffle = False because it gives a better performance.\n",
    "To avoid overfitting, I set an early stop to stop training when validation loss has not improved after 10 epochs (patience = 10)."
   ],
   "metadata": {}
  },
  {
   "cell_type": "code",
   "execution_count": null,
   "source": [
    "# Fit BiLSTM, LSTM and GRU\r\n",
    "def fit_model(model):\r\n",
    "    early_stop = keras.callbacks.EarlyStopping(monitor = 'val_loss',\r\n",
    "                                               patience = 10)\r\n",
    "    history = model.fit(X_train, y_train, epochs = 100,  \r\n",
    "                        validation_split = 0.2, batch_size = 32, \r\n",
    "                        shuffle = False, callbacks = [early_stop])\r\n",
    "    return history\r\n",
    "history_bilstm = fit_model(model_bilstm)\r\n",
    "history_lstm = fit_model(model_lstm)\r\n",
    "history_gru = fit_model(model_gru)"
   ],
   "outputs": [],
   "metadata": {}
  },
  {
   "cell_type": "markdown",
   "source": [
    "Plot train loss and validation loss\n",
    "In this plot, I am going to see the number of epochs in each model and evaluate the model performance in prediction"
   ],
   "metadata": {}
  },
  {
   "cell_type": "code",
   "execution_count": null,
   "source": [
    "# Plot train loss and validation loss\r\n",
    "def plot_loss (history):\r\n",
    "    plt.figure(figsize = (10, 6))\r\n",
    "    plt.plot(history.history['loss'])\r\n",
    "    plt.plot(history.history['val_loss'])\r\n",
    "    plt.ylabel('Loss')\r\n",
    "    plt.xlabel('epoch')\r\n",
    "    plt.legend(['Train loss', 'Validation loss'], loc='upper right')\r\n",
    "plot_loss (history_bilstm)\r\n",
    "plot_loss (history_lstm)\r\n",
    "plot_loss (history_gru)"
   ],
   "outputs": [],
   "metadata": {}
  },
  {
   "cell_type": "markdown",
   "source": [
    "3.3 Inverse transform the target variable\n",
    "After building the model, I have to transform the target variable back to original data space for train and test data using scaler_y.inverse_transform."
   ],
   "metadata": {}
  },
  {
   "cell_type": "code",
   "execution_count": null,
   "source": [
    "y_test = scaler_y.inverse_transform(y_test)\r\n",
    "y_train = scaler_y.inverse_transform(y_train)"
   ],
   "outputs": [],
   "metadata": {}
  },
  {
   "cell_type": "markdown",
   "source": [
    "3.4 Make prediction using BiLSTM, LSTM and GRU\n",
    "Here I predict UWC using BiLSTM, LSTM and GRU models. Then, I plot true future (test data) vs prediction the three models."
   ],
   "metadata": {}
  },
  {
   "cell_type": "code",
   "execution_count": null,
   "source": [
    "# Make prediction\r\n",
    "def prediction(model):\r\n",
    "    prediction = model.predict(X_test)\r\n",
    "    prediction = scaler_y.inverse_transform(prediction)\r\n",
    "    return prediction\r\n",
    "prediction_bilstm = prediction(model_bilstm)\r\n",
    "prediction_lstm = prediction(model_lstm)\r\n",
    "prediction_gru = prediction(model_gru)\r\n",
    "# Plot true future vs prediction\r\n",
    "def plot_future(prediction, y_test):\r\n",
    "    plt.figure(figsize=(10, 6))\r\n",
    "    range_future = len(prediction)\r\n",
    "    plt.plot(np.arange(range_future), np.array(y_test), \r\n",
    "             label='True Future')     \r\n",
    "    plt.plot(np.arange(range_future),np.array(prediction),\r\n",
    "            label='Prediction')\r\n",
    "    plt.legend(loc='upper left')\r\n",
    "    plt.xlabel('Time (day)')\r\n",
    "    plt.ylabel('Daily water consumption ($m^3$/capita.day)')\r\n",
    "plot_future(prediction_bilstm, y_test)\r\n",
    "plot_future(prediction_lstm, y_test)\r\n",
    "plot_future(prediction_gru, y_test)\r\n"
   ],
   "outputs": [],
   "metadata": {}
  },
  {
   "cell_type": "markdown",
   "source": [
    "3.5 Calculate RMSE and MAE\n",
    "Let me use two goodness-of-fit measure to evaluate the performance of the models."
   ],
   "metadata": {}
  },
  {
   "cell_type": "code",
   "execution_count": null,
   "source": [
    "# Define a function to calculate MAE and RMSE\r\n",
    "def evaluate_prediction(predictions, actual, model_name):\r\n",
    "    errors = predictions - actual\r\n",
    "    mse = np.square(errors).mean()\r\n",
    "    rmse = np.sqrt(mse)\r\n",
    "    mae = np.abs(errors).mean()\r\n",
    "print(model_name + ':')\r\n",
    "    print('Mean Absolute Error: {:.4f}'.format(mae))\r\n",
    "    print('Root Mean Square Error: {:.4f}'.format(rmse))\r\n",
    "    print('')\r\n",
    "evaluate_prediction(prediction_bilstm, y_test, 'Bidirectional LSTM')\r\n",
    "evaluate_prediction(prediction_lstm, y_test, 'LSTM')\r\n",
    "evaluate_prediction(prediction_gru, y_test, 'GRU')\r\n"
   ],
   "outputs": [],
   "metadata": {}
  },
  {
   "cell_type": "markdown",
   "source": [
    "The goodness-of-fit of the three models shows that they have quite similar performance. Even so, the BiLSTM model has higher accuracy compared to LSTM and GRU. So I use the BiLSTM model for multi-step forecasting of UWC in the next 10 years.\n",
    "\n",
    "⚠️ Note: The result of this project does not imply that BiLSTM has better results than LSTM and GRU. This is just an illustration of how you can compare these models to come up with the most reliable one for prediction."
   ],
   "metadata": {}
  },
  {
   "cell_type": "code",
   "execution_count": null,
   "source": [
    "Step 4: Multi-step forecasting of water consumption in 10 years\r\n",
    "I import climate data projections in the study site and filter them for the period of 2015–01–01 to 2025–01–01.\r\n"
   ],
   "outputs": [],
   "metadata": {}
  },
  {
   "cell_type": "code",
   "execution_count": null,
   "source": [
    "# Plot histoy and future data\r\n",
    "def plot_history_future(y_train, prediction):\r\n",
    "    plt.figure(figsize=(10, 6))\r\n",
    "    range_history = len(y_train)\r\n",
    "    range_future = list(range(range_history, range_history +\r\n",
    "                   len(prediction)))\r\n",
    "    plt.plot(np.arange(range_history), np.array(y_train), \r\n",
    "             label='History')\r\n",
    "    plt.plot(range_future, np.array(prediction),label='Prediction')\r\n",
    "    plt.legend(loc='upper right')\r\n",
    "    plt.xlabel('Time (day)')\r\n",
    "    plt.ylabel('Daily water consumption ($m^3$/capita.day)')\r\n",
    "# Multi-step forecasting \r\n",
    "def forecast(X_input, time_steps):\r\n",
    "    # Scale the unseen input with the scaler fitted on the train set\r\n",
    "    X = input_scaler.transform(X_input)\r\n",
    "    # Reshape unseen data to a 3D input\r\n",
    "    Xs = []\r\n",
    "    for i in range(len(X) - time_steps):\r\n",
    "        v = X[i:i+time_steps, :]\r\n",
    "        Xs.append(v)\r\n",
    "    X_transformed = np.array(Xs)\r\n",
    "# Make prediction for unseen data using LSTM model\r\n",
    "    prediction = model_bilstm.predict(X_transformed)\r\n",
    "    prediction_actual = scaler_y.inverse_transform(prediction)\r\n",
    "    return prediction_actual\r\n",
    "prediction = forecast(X_new, TIME_STEPS)\r\n",
    "plot_history_future(y_train, prediction)"
   ],
   "outputs": [],
   "metadata": {}
  },
  {
   "cell_type": "code",
   "execution_count": null,
   "source": [],
   "outputs": [],
   "metadata": {}
  },
  {
   "cell_type": "code",
   "execution_count": null,
   "source": [],
   "outputs": [],
   "metadata": {}
  },
  {
   "cell_type": "code",
   "execution_count": 3,
   "source": [
    "xlsx = pd.ExcelFile('DATA.xlsx')\r\n",
    "df_r = pd.read_excel(xlsx, 'Sheet1')\r\n",
    "df= df_r.copy()"
   ],
   "outputs": [],
   "metadata": {}
  },
  {
   "cell_type": "markdown",
   "source": [
    "# 2.3 Split the dataset into train and test data\n",
    "In this project, I set the first 80% of data as train data and the remaining 20% as test data. I train the model with train data and validate its performance with test data."
   ],
   "metadata": {}
  },
  {
   "cell_type": "code",
   "execution_count": 4,
   "source": [
    "# Split train data and test data\r\n",
    "train_size = int(len(df)*0.7)\r\n",
    "train_dataset, test_dataset = df.iloc[:train_size], df.iloc[train_size:]"
   ],
   "outputs": [],
   "metadata": {}
  },
  {
   "cell_type": "code",
   "execution_count": 5,
   "source": [
    "# Plot train and test data\r\n",
    "plt.figure(figsize = (10, 6))\r\n",
    "plt.plot(train_dataset.eff)\r\n",
    "plt.plot(test_dataset.eff)\r\n",
    "plt.xlabel('Time (day)')\r\n",
    "plt.ylabel('Daily water consumption ($m^3$/capita.day)')\r\n",
    "plt.legend(['Train set', 'Test set'], loc='upper right')\r\n",
    "print('Dimension of train data: ',train_dataset.shape)\r\n",
    "print('Dimension of test data: ', test_dataset.shape)\r\n"
   ],
   "outputs": [
    {
     "output_type": "stream",
     "name": "stdout",
     "text": [
      "Dimension of train data:  (19, 5)\n",
      "Dimension of test data:  (9, 5)\n"
     ]
    },
    {
     "output_type": "display_data",
     "data": {
      "image/png": "[encoded data removed]",
      "text/plain": [
       "<Figure size 720x432 with 1 Axes>"
      ]
     },
     "metadata": {
      "needs_background": "light"
     }
    }
   ],
   "metadata": {}
  },
  {
   "cell_type": "code",
   "execution_count": 6,
   "source": [
    "# Split the target variable and dependent variables\r\n",
    "# Split train data to X and y\r\n",
    "X_train = train_dataset.drop('eff', axis = 1)\r\n",
    "y_train = train_dataset.loc[:,['eff']]\r\n",
    "\r\n",
    "# Split test data to X and y\r\n",
    "X_test = test_dataset.drop('eff', axis = 1)\r\n",
    "y_test = test_dataset.loc[:,['eff']]"
   ],
   "outputs": [],
   "metadata": {}
  },
  {
   "cell_type": "code",
   "execution_count": 7,
   "source": [
    "# Different scaler for input and output\r\n",
    "scaler_x = MinMaxScaler(feature_range = (0,1))\r\n",
    "scaler_y = MinMaxScaler(feature_range = (0,1))\r\n",
    "\r\n",
    "# Fit the scaler using available training data\r\n",
    "input_scaler = scaler_x.fit(X_train)\r\n",
    "output_scaler = scaler_y.fit(y_train)\r\n",
    "\r\n",
    "# Apply the scaler to training data\r\n",
    "train_y_norm = output_scaler.transform(y_train)\r\n",
    "train_x_norm = input_scaler.transform(X_train)\r\n",
    "\r\n",
    "# Apply the scaler to test data\r\n",
    "test_y_norm = output_scaler.transform(y_test)\r\n",
    "test_x_norm = input_scaler.transform(X_test)"
   ],
   "outputs": [],
   "metadata": {}
  },
  {
   "cell_type": "markdown",
   "source": [
    "# Create a 3D input dataset\n",
    "LSTM, GRU and BiLSTM take a 3D input (num_samples, num_timesteps, num_features). So, I create a helper function, create_dataset, to reshape input."
   ],
   "metadata": {}
  },
  {
   "cell_type": "code",
   "execution_count": 8,
   "source": [
    "# Create a 3D input\r\n",
    "def create_dataset (X, y, time_steps = 1):\r\n",
    "    Xs, ys = [], []\r\n",
    "    for i in range(len(X)-time_steps):\r\n",
    "        v = X[i:i+time_steps, :]\r\n",
    "        Xs.append(v)\r\n",
    "        ys.append(y[i+time_steps])\r\n",
    "    return np.array(Xs), np.array(ys)\r\n",
    "TIME_STEPS = 50\r\n",
    "X_test, y_test = create_dataset(test_x_norm, test_y_norm,   \r\n",
    "                                TIME_STEPS)\r\n",
    "X_train, y_train = create_dataset(train_x_norm, train_y_norm, \r\n",
    "                                  TIME_STEPS)\r\n",
    "print('X_train.shape: ', X_test.shape)\r\n",
    "print('y_train.shape: ', y_train.shape)\r\n",
    "print('X_test.shape: ', X_test.shape)\r\n",
    "print('y_test.shape: ', y_train.shape)"
   ],
   "outputs": [
    {
     "output_type": "stream",
     "name": "stdout",
     "text": [
      "X_train.shape:  (0,)\n",
      "y_train.shape:  (0,)\n",
      "X_test.shape:  (0,)\n",
      "y_test.shape:  (0,)\n"
     ]
    }
   ],
   "metadata": {}
  },
  {
   "cell_type": "code",
   "execution_count": 9,
   "source": [
    "from keras.models import Sequential\r\n",
    "from keras.layers import Dense\r\n",
    "from keras.layers import LSTM\r\n",
    "from keras.layers import Dropout\r\n",
    "\r\n",
    "regressor = Sequential()\r\n",
    "\r\n",
    "regressor.add(LSTM(units = 50, return_sequences = True, input_shape = (X_train.shape[1], X_train.shape[2],)))\r\n",
    "regressor.add(Dropout(0.2))\r\n",
    "\r\n",
    "regressor.add(LSTM(units = 50, return_sequences = True))\r\n",
    "regressor.add(Dropout(0.2))\r\n",
    "\r\n",
    "regressor.add(LSTM(units = 50, return_sequences = True))\r\n",
    "regressor.add(Dropout(0.2))\r\n",
    "\r\n",
    "regressor.add(LSTM(units = 50))\r\n",
    "regressor.add(Dropout(0.2))\r\n",
    "\r\n",
    "regressor.add(Dense(units = 1))\r\n",
    "\r\n",
    "regressor.compile(optimizer = 'adam', loss = 'mean_squared_error')\r\n",
    "\r\n",
    "regressor.fit(X_train, y_train, epochs = 100, batch_size = 32)\r\n"
   ],
   "outputs": [
    {
     "output_type": "stream",
     "name": "stdout",
     "text": [
      "Epoch 1/100\n",
      "91/91 [==============================] - 5s 54ms/step - loss: 0.0361\n",
      "Epoch 2/100\n",
      "91/91 [==============================] - 6s 69ms/step - loss: 0.0102\n",
      "Epoch 3/100\n",
      "91/91 [==============================] - 4s 49ms/step - loss: 0.0091\n",
      "Epoch 4/100\n",
      "91/91 [==============================] - 5s 58ms/step - loss: 0.0086\n",
      "Epoch 5/100\n",
      "91/91 [==============================] - 5s 55ms/step - loss: 0.0080\n",
      "Epoch 6/100\n",
      "91/91 [==============================] - 5s 52ms/step - loss: 0.0069\n",
      "Epoch 7/100\n",
      "91/91 [==============================] - 4s 48ms/step - loss: 0.0069: 1s - \n",
      "Epoch 8/100\n",
      "91/91 [==============================] - 5s 50ms/step - loss: 0.0066\n",
      "Epoch 9/100\n",
      "91/91 [==============================] - 5s 53ms/step - loss: 0.0066\n",
      "Epoch 10/100\n",
      "91/91 [==============================] - 4s 49ms/step - loss: 0.0060\n",
      "Epoch 11/100\n",
      "91/91 [==============================] - 5s 58ms/step - loss: 0.0064\n",
      "Epoch 12/100\n",
      "91/91 [==============================] - 5s 50ms/step - loss: 0.0059\n",
      "Epoch 13/100\n",
      "91/91 [==============================] - 6s 71ms/step - loss: 0.0055\n",
      "Epoch 14/100\n",
      "91/91 [==============================] - 4s 48ms/step - loss: 0.0055\n",
      "Epoch 15/100\n",
      "91/91 [==============================] - 4s 43ms/step - loss: 0.0057\n",
      "Epoch 16/100\n",
      "91/91 [==============================] - 5s 52ms/step - loss: 0.0053\n",
      "Epoch 17/100\n",
      "91/91 [==============================] - 5s 57ms/step - loss: 0.0054\n",
      "Epoch 18/100\n",
      "91/91 [==============================] - 4s 46ms/step - loss: 0.0052: \n",
      "Epoch 19/100\n",
      "91/91 [==============================] - 4s 45ms/step - loss: 0.0050\n",
      "Epoch 20/100\n",
      "91/91 [==============================] - 4s 45ms/step - loss: 0.0048: 1\n",
      "Epoch 21/100\n",
      "91/91 [==============================] - 4s 42ms/step - loss: 0.0048\n",
      "Epoch 22/100\n",
      "91/91 [==============================] - 4s 44ms/step - loss: 0.0048\n",
      "Epoch 23/100\n",
      "91/91 [==============================] - 4s 44ms/step - loss: 0.0048\n",
      "Epoch 24/100\n",
      "91/91 [==============================] - 4s 44ms/step - loss: 0.0046\n",
      "Epoch 25/100\n",
      "91/91 [==============================] - 4s 45ms/step - loss: 0.0046\n",
      "Epoch 26/100\n",
      "91/91 [==============================] - 4s 44ms/step - loss: 0.0042\n",
      "Epoch 27/100\n",
      "91/91 [==============================] - 4s 44ms/step - loss: 0.0041\n",
      "Epoch 28/100\n",
      "91/91 [==============================] - 4s 44ms/step - loss: 0.0042\n",
      "Epoch 29/100\n",
      "91/91 [==============================] - 4s 44ms/step - loss: 0.0039\n",
      "Epoch 30/100\n",
      "91/91 [==============================] - 4s 43ms/step - loss: 0.0038\n",
      "Epoch 31/100\n",
      "91/91 [==============================] - 4s 44ms/step - loss: 0.0038: 0s - los\n",
      "Epoch 32/100\n",
      "91/91 [==============================] - 4s 43ms/step - loss: 0.0038\n",
      "Epoch 33/100\n",
      "91/91 [==============================] - 4s 44ms/step - loss: 0.0035- ETA: 0s - lo\n",
      "Epoch 34/100\n",
      "91/91 [==============================] - 4s 44ms/step - loss: 0.0033\n",
      "Epoch 35/100\n",
      "91/91 [==============================] - 4s 47ms/step - loss: 0.0036\n",
      "Epoch 36/100\n",
      "91/91 [==============================] - 4s 43ms/step - loss: 0.0034: - ETA: 0s - loss:\n",
      "Epoch 37/100\n",
      "91/91 [==============================] - 4s 43ms/step - loss: 0.0033\n",
      "Epoch 38/100\n",
      "91/91 [==============================] - 4s 44ms/step - loss: 0.0032\n",
      "Epoch 39/100\n",
      "91/91 [==============================] - 4s 43ms/step - loss: 0.0030\n",
      "Epoch 40/100\n",
      "91/91 [==============================] - 4s 45ms/step - loss: 0.0036\n",
      "Epoch 41/100\n",
      "91/91 [==============================] - 4s 45ms/step - loss: 0.0033\n",
      "Epoch 42/100\n",
      "91/91 [==============================] - 4s 45ms/step - loss: 0.0029\n",
      "Epoch 43/100\n",
      "91/91 [==============================] - 4s 46ms/step - loss: 0.0027\n",
      "Epoch 44/100\n",
      "91/91 [==============================] - 4s 44ms/step - loss: 0.0029: 0s - loss: 0.002\n",
      "Epoch 45/100\n",
      "91/91 [==============================] - 4s 44ms/step - loss: 0.0027\n",
      "Epoch 46/100\n",
      "91/91 [==============================] - 4s 44ms/step - loss: 0.0027\n",
      "Epoch 47/100\n",
      "91/91 [==============================] - 4s 44ms/step - loss: 0.0026\n",
      "Epoch 48/100\n",
      "91/91 [==============================] - 4s 44ms/step - loss: 0.0025\n",
      "Epoch 49/100\n",
      "91/91 [==============================] - 4s 44ms/step - loss: 0.0027\n",
      "Epoch 50/100\n",
      "91/91 [==============================] - 4s 44ms/step - loss: 0.0030\n",
      "Epoch 51/100\n",
      "91/91 [==============================] - 4s 44ms/step - loss: 0.0027\n",
      "Epoch 52/100\n",
      "91/91 [==============================] - 4s 44ms/step - loss: 0.0025\n",
      "Epoch 53/100\n",
      "91/91 [==============================] - 4s 44ms/step - loss: 0.0025\n",
      "Epoch 54/100\n",
      "91/91 [==============================] - 4s 44ms/step - loss: 0.0024\n",
      "Epoch 55/100\n",
      "91/91 [==============================] - 4s 44ms/step - loss: 0.0024: 0s - loss: 0.\n",
      "Epoch 56/100\n",
      "91/91 [==============================] - 4s 45ms/step - loss: 0.0024\n",
      "Epoch 57/100\n",
      "91/91 [==============================] - 4s 44ms/step - loss: 0.0022\n",
      "Epoch 58/100\n",
      "91/91 [==============================] - 4s 44ms/step - loss: 0.0023: 0s - \n",
      "Epoch 59/100\n",
      "91/91 [==============================] - 4s 44ms/step - loss: 0.0026\n",
      "Epoch 60/100\n",
      "91/91 [==============================] - 4s 44ms/step - loss: 0.0024\n",
      "Epoch 61/100\n",
      "91/91 [==============================] - 4s 43ms/step - loss: 0.0022: 0s - loss: 0.00\n",
      "Epoch 62/100\n",
      "91/91 [==============================] - 5s 51ms/step - loss: 0.0020\n",
      "Epoch 63/100\n",
      "91/91 [==============================] - 5s 54ms/step - loss: 0.0022\n",
      "Epoch 64/100\n",
      "91/91 [==============================] - 5s 51ms/step - loss: 0.0020\n",
      "Epoch 65/100\n",
      "91/91 [==============================] - 5s 50ms/step - loss: 0.0023\n",
      "Epoch 66/100\n",
      "91/91 [==============================] - 4s 45ms/step - loss: 0.0020\n",
      "Epoch 67/100\n",
      "91/91 [==============================] - 4s 44ms/step - loss: 0.0024: 0s - loss: 0.002\n",
      "Epoch 68/100\n",
      "91/91 [==============================] - 4s 45ms/step - loss: 0.0020\n",
      "Epoch 69/100\n",
      "91/91 [==============================] - 4s 44ms/step - loss: 0.0021\n",
      "Epoch 70/100\n",
      "91/91 [==============================] - 4s 46ms/step - loss: 0.0020: 0s - loss: 0.00\n",
      "Epoch 71/100\n",
      "91/91 [==============================] - 4s 45ms/step - loss: 0.0021\n",
      "Epoch 72/100\n",
      "91/91 [==============================] - 4s 44ms/step - loss: 0.0019\n",
      "Epoch 73/100\n",
      "91/91 [==============================] - 4s 44ms/step - loss: 0.0017\n",
      "Epoch 74/100\n",
      "91/91 [==============================] - 4s 44ms/step - loss: 0.0018\n",
      "Epoch 75/100\n",
      "91/91 [==============================] - 4s 44ms/step - loss: 0.0018\n",
      "Epoch 76/100\n",
      "91/91 [==============================] - 4s 44ms/step - loss: 0.0018\n",
      "Epoch 77/100\n",
      "91/91 [==============================] - 4s 44ms/step - loss: 0.0017\n",
      "Epoch 78/100\n",
      "91/91 [==============================] - 4s 46ms/step - loss: 0.0017\n",
      "Epoch 79/100\n",
      "91/91 [==============================] - 5s 50ms/step - loss: 0.0018\n",
      "Epoch 80/100\n",
      "91/91 [==============================] - 5s 53ms/step - loss: 0.0018\n",
      "Epoch 81/100\n",
      "91/91 [==============================] - 4s 49ms/step - loss: 0.0017\n",
      "Epoch 82/100\n",
      "91/91 [==============================] - 5s 52ms/step - loss: 0.0018\n",
      "Epoch 83/100\n",
      "91/91 [==============================] - 4s 44ms/step - loss: 0.0018\n",
      "Epoch 84/100\n",
      "91/91 [==============================] - 4s 46ms/step - loss: 0.0018\n",
      "Epoch 85/100\n",
      "91/91 [==============================] - 4s 44ms/step - loss: 0.0016\n",
      "Epoch 86/100\n",
      "91/91 [==============================] - 4s 45ms/step - loss: 0.0016\n",
      "Epoch 87/100\n",
      "91/91 [==============================] - 4s 44ms/step - loss: 0.0020\n",
      "Epoch 88/100\n",
      "91/91 [==============================] - 4s 44ms/step - loss: 0.0016\n",
      "Epoch 89/100\n",
      "91/91 [==============================] - 4s 44ms/step - loss: 0.0017\n",
      "Epoch 90/100\n",
      "91/91 [==============================] - 4s 49ms/step - loss: 0.0018\n",
      "Epoch 91/100\n",
      "91/91 [==============================] - 5s 53ms/step - loss: 0.0017\n",
      "Epoch 92/100\n",
      "91/91 [==============================] - 4s 48ms/step - loss: 0.0014\n",
      "Epoch 93/100\n",
      "91/91 [==============================] - 5s 53ms/step - loss: 0.0014\n",
      "Epoch 94/100\n",
      "91/91 [==============================] - 5s 54ms/step - loss: 0.0015\n",
      "Epoch 95/100\n",
      "91/91 [==============================] - 5s 53ms/step - loss: 0.0014\n",
      "Epoch 96/100\n",
      "91/91 [==============================] - 4s 46ms/step - loss: 0.0014\n",
      "Epoch 97/100\n",
      "91/91 [==============================] - 4s 45ms/step - loss: 0.0014\n",
      "Epoch 98/100\n",
      "91/91 [==============================] - 4s 47ms/step - loss: 0.0016\n",
      "Epoch 99/100\n",
      "91/91 [==============================] - 4s 45ms/step - loss: 0.0015\n",
      "Epoch 100/100\n",
      "91/91 [==============================] - 4s 44ms/step - loss: 0.0015\n"
     ]
    },
    {
     "output_type": "execute_result",
     "data": {
      "text/plain": [
       "<tensorflow.python.keras.callbacks.History at 0x144d4299a30>"
      ]
     },
     "metadata": {},
     "execution_count": 9
    }
   ],
   "metadata": {}
  },
  {
   "cell_type": "code",
   "execution_count": 10,
   "source": [
    "predicted = regressor.predict(X_test)\r\n",
    "\r\n",
    "fig, ax = plt.subplots()\r\n",
    "ax.scatter(y_test, predicted)\r\n",
    "\r\n",
    "ax.set_xlabel('True Values')\r\n",
    "ax.set_ylabel('Predicted')\r\n"
   ],
   "outputs": [
    {
     "output_type": "execute_result",
     "data": {
      "text/plain": [
       "Text(0, 0.5, 'Predicted')"
      ]
     },
     "metadata": {},
     "execution_count": 10
    },
    {
     "output_type": "display_data",
     "data": {
      "image/png": "[encoded data removed]",
      "text/plain": [
       "<Figure size 432x288 with 1 Axes>"
      ]
     },
     "metadata": {
      "needs_background": "light"
     }
    }
   ],
   "metadata": {}
  },
  {
   "cell_type": "code",
   "execution_count": 11,
   "source": [
    "print(\"r2 score: {}\".format(metrics.r2_score( y_test, predicted)))\r\n",
    "print(\"mse: {}\".format(metrics.mean_squared_error( y_test, predicted)))\r\n",
    "print(\"rmse: {}\".format(np.sqrt(metrics.mean_squared_error(y_test, predicted))))\r\n",
    "print(\"mae: {}\".format(metrics.mean_absolute_error(y_test, predicted)))"
   ],
   "outputs": [
    {
     "output_type": "stream",
     "name": "stdout",
     "text": [
      "r2 score: -23.40229399421839\n",
      "mse: 0.07031649413953402\n",
      "rmse: 0.2651725742597338\n",
      "mae: 0.13395329028880265\n"
     ]
    }
   ],
   "metadata": {}
  },
  {
   "cell_type": "code",
   "execution_count": null,
   "source": [],
   "outputs": [],
   "metadata": {}
  },
  {
   "cell_type": "code",
   "execution_count": null,
   "source": [],
   "outputs": [],
   "metadata": {}
  }
 ],
 "metadata": {
  "kernelspec": {
   "display_name": "Python 3",
   "language": "python",
   "name": "python3"
  },
  "language_info": {
   "codemirror_mode": {
    "name": "ipython",
    "version": 3
   },
   "file_extension": ".py",
   "mimetype": "text/x-python",
   "name": "python",
   "nbconvert_exporter": "python",
   "pygments_lexer": "ipython3",
   "version": "3.8.5"
  },
  "varInspector": {
   "cols": {
    "lenName": 16,
    "lenType": 16,
    "lenVar": 40
   },
   "kernels_config": {
    "python": {
     "delete_cmd_postfix": "",
     "delete_cmd_prefix": "del ",
     "library": "var_list.py",
     "varRefreshCmd": "print(var_dic_list())"
    },
    "r": {
     "delete_cmd_postfix": ") ",
     "delete_cmd_prefix": "rm(",
     "library": "var_list.r",
     "varRefreshCmd": "cat(var_dic_list()) "
    }
   },
   "types_to_exclude": [
    "module",
    "function",
    "builtin_function_or_method",
    "instance",
    "_Feature"
   ],
   "window_display": false
  }
 },
 "nbformat": 4,
 "nbformat_minor": 4
}