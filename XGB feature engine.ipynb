{
 "cells": [
  {
   "cell_type": "markdown",
   "source": [
    "# AFTER FEATURE ENGINEERING"
   ],
   "metadata": {}
  },
  {
   "cell_type": "code",
   "execution_count": 1,
   "source": [
    "#Importing Packages\r\n",
    "import pandas as pd\r\n",
    "import numpy as np\r\n",
    "import matplotlib.pyplot as plt\r\n",
    "\r\n",
    "from xgboost import XGBRegressor\r\n",
    "from xgboost import XGBRFRegressor\r\n",
    "\r\n",
    "\r\n",
    "from sklearn import metrics, model_selection\r\n",
    "from sklearn.model_selection import GridSearchCV\r\n",
    "from sklearn.model_selection import RandomizedSearchCV\r\n",
    "from sklearn.metrics import mean_squared_error\r\n",
    "from sklearn.metrics import mean_absolute_error\r\n",
    "\r\n",
    "# from sklearn.preprocessing import Imputer\r\n",
    "\r\n",
    "\r\n",
    "from sklearn.impute import SimpleImputer\r\n",
    "# imputer = SimpleImputer(missing_values=np.nan, strategy='mean')"
   ],
   "outputs": [],
   "metadata": {}
  },
  {
   "cell_type": "code",
   "execution_count": 20,
   "source": [
    "xlsx = pd.ExcelFile('DATA.xlsx')\r\n",
    "df = pd.read_excel(xlsx, 'Sheet1')\r\n",
    "dataset= df.copy()\r\n",
    "dataset"
   ],
   "outputs": [
    {
     "output_type": "execute_result",
     "data": {
      "text/html": [
       "<div>\n",
       "<style scoped>\n",
       "    .dataframe tbody tr th:only-of-type {\n",
       "        vertical-align: middle;\n",
       "    }\n",
       "\n",
       "    .dataframe tbody tr th {\n",
       "        vertical-align: top;\n",
       "    }\n",
       "\n",
       "    .dataframe thead th {\n",
       "        text-align: right;\n",
       "    }\n",
       "</style>\n",
       "<table border=\"1\" class=\"dataframe\">\n",
       "  <thead>\n",
       "    <tr style=\"text-align: right;\">\n",
       "      <th></th>\n",
       "      <th>pH</th>\n",
       "      <th>Temp</th>\n",
       "      <th>Adsorbent</th>\n",
       "      <th>Ct_time</th>\n",
       "      <th>eff</th>\n",
       "    </tr>\n",
       "  </thead>\n",
       "  <tbody>\n",
       "    <tr>\n",
       "      <th>0</th>\n",
       "      <td>9</td>\n",
       "      <td>328</td>\n",
       "      <td>40</td>\n",
       "      <td>50</td>\n",
       "      <td>98.92</td>\n",
       "    </tr>\n",
       "    <tr>\n",
       "      <th>1</th>\n",
       "      <td>7</td>\n",
       "      <td>318</td>\n",
       "      <td>30</td>\n",
       "      <td>20</td>\n",
       "      <td>98.72</td>\n",
       "    </tr>\n",
       "    <tr>\n",
       "      <th>2</th>\n",
       "      <td>7</td>\n",
       "      <td>318</td>\n",
       "      <td>50</td>\n",
       "      <td>40</td>\n",
       "      <td>99.78</td>\n",
       "    </tr>\n",
       "    <tr>\n",
       "      <th>3</th>\n",
       "      <td>5</td>\n",
       "      <td>308</td>\n",
       "      <td>20</td>\n",
       "      <td>30</td>\n",
       "      <td>80.74</td>\n",
       "    </tr>\n",
       "    <tr>\n",
       "      <th>4</th>\n",
       "      <td>7</td>\n",
       "      <td>318</td>\n",
       "      <td>30</td>\n",
       "      <td>40</td>\n",
       "      <td>99.11</td>\n",
       "    </tr>\n",
       "    <tr>\n",
       "      <th>5</th>\n",
       "      <td>9</td>\n",
       "      <td>308</td>\n",
       "      <td>40</td>\n",
       "      <td>30</td>\n",
       "      <td>97.99</td>\n",
       "    </tr>\n",
       "    <tr>\n",
       "      <th>6</th>\n",
       "      <td>11</td>\n",
       "      <td>318</td>\n",
       "      <td>30</td>\n",
       "      <td>40</td>\n",
       "      <td>99.88</td>\n",
       "    </tr>\n",
       "    <tr>\n",
       "      <th>7</th>\n",
       "      <td>5</td>\n",
       "      <td>308</td>\n",
       "      <td>40</td>\n",
       "      <td>50</td>\n",
       "      <td>97.15</td>\n",
       "    </tr>\n",
       "    <tr>\n",
       "      <th>8</th>\n",
       "      <td>9</td>\n",
       "      <td>308</td>\n",
       "      <td>20</td>\n",
       "      <td>50</td>\n",
       "      <td>97.52</td>\n",
       "    </tr>\n",
       "    <tr>\n",
       "      <th>9</th>\n",
       "      <td>5</td>\n",
       "      <td>328</td>\n",
       "      <td>40</td>\n",
       "      <td>30</td>\n",
       "      <td>71.08</td>\n",
       "    </tr>\n",
       "    <tr>\n",
       "      <th>10</th>\n",
       "      <td>5</td>\n",
       "      <td>328</td>\n",
       "      <td>20</td>\n",
       "      <td>30</td>\n",
       "      <td>86.60</td>\n",
       "    </tr>\n",
       "    <tr>\n",
       "      <th>11</th>\n",
       "      <td>7</td>\n",
       "      <td>298</td>\n",
       "      <td>30</td>\n",
       "      <td>40</td>\n",
       "      <td>96.45</td>\n",
       "    </tr>\n",
       "    <tr>\n",
       "      <th>12</th>\n",
       "      <td>5</td>\n",
       "      <td>328</td>\n",
       "      <td>40</td>\n",
       "      <td>50</td>\n",
       "      <td>98.73</td>\n",
       "    </tr>\n",
       "    <tr>\n",
       "      <th>13</th>\n",
       "      <td>9</td>\n",
       "      <td>328</td>\n",
       "      <td>20</td>\n",
       "      <td>50</td>\n",
       "      <td>95.98</td>\n",
       "    </tr>\n",
       "    <tr>\n",
       "      <th>14</th>\n",
       "      <td>7</td>\n",
       "      <td>318</td>\n",
       "      <td>30</td>\n",
       "      <td>30</td>\n",
       "      <td>96.98</td>\n",
       "    </tr>\n",
       "    <tr>\n",
       "      <th>15</th>\n",
       "      <td>5</td>\n",
       "      <td>328</td>\n",
       "      <td>20</td>\n",
       "      <td>50</td>\n",
       "      <td>78.42</td>\n",
       "    </tr>\n",
       "    <tr>\n",
       "      <th>16</th>\n",
       "      <td>7</td>\n",
       "      <td>318</td>\n",
       "      <td>30</td>\n",
       "      <td>40</td>\n",
       "      <td>97.15</td>\n",
       "    </tr>\n",
       "    <tr>\n",
       "      <th>17</th>\n",
       "      <td>5</td>\n",
       "      <td>308</td>\n",
       "      <td>40</td>\n",
       "      <td>30</td>\n",
       "      <td>98.08</td>\n",
       "    </tr>\n",
       "    <tr>\n",
       "      <th>18</th>\n",
       "      <td>7</td>\n",
       "      <td>318</td>\n",
       "      <td>30</td>\n",
       "      <td>60</td>\n",
       "      <td>93.72</td>\n",
       "    </tr>\n",
       "    <tr>\n",
       "      <th>19</th>\n",
       "      <td>9</td>\n",
       "      <td>328</td>\n",
       "      <td>20</td>\n",
       "      <td>30</td>\n",
       "      <td>94.16</td>\n",
       "    </tr>\n",
       "    <tr>\n",
       "      <th>20</th>\n",
       "      <td>7</td>\n",
       "      <td>318</td>\n",
       "      <td>30</td>\n",
       "      <td>40</td>\n",
       "      <td>92.37</td>\n",
       "    </tr>\n",
       "    <tr>\n",
       "      <th>21</th>\n",
       "      <td>7</td>\n",
       "      <td>318</td>\n",
       "      <td>10</td>\n",
       "      <td>40</td>\n",
       "      <td>87.05</td>\n",
       "    </tr>\n",
       "    <tr>\n",
       "      <th>22</th>\n",
       "      <td>7</td>\n",
       "      <td>338</td>\n",
       "      <td>30</td>\n",
       "      <td>40</td>\n",
       "      <td>94.64</td>\n",
       "    </tr>\n",
       "    <tr>\n",
       "      <th>23</th>\n",
       "      <td>9</td>\n",
       "      <td>308</td>\n",
       "      <td>40</td>\n",
       "      <td>50</td>\n",
       "      <td>99.47</td>\n",
       "    </tr>\n",
       "    <tr>\n",
       "      <th>24</th>\n",
       "      <td>9</td>\n",
       "      <td>328</td>\n",
       "      <td>40</td>\n",
       "      <td>30</td>\n",
       "      <td>98.17</td>\n",
       "    </tr>\n",
       "    <tr>\n",
       "      <th>25</th>\n",
       "      <td>3</td>\n",
       "      <td>318</td>\n",
       "      <td>30</td>\n",
       "      <td>40</td>\n",
       "      <td>80.36</td>\n",
       "    </tr>\n",
       "    <tr>\n",
       "      <th>26</th>\n",
       "      <td>5</td>\n",
       "      <td>308</td>\n",
       "      <td>20</td>\n",
       "      <td>50</td>\n",
       "      <td>77.56</td>\n",
       "    </tr>\n",
       "    <tr>\n",
       "      <th>27</th>\n",
       "      <td>9</td>\n",
       "      <td>308</td>\n",
       "      <td>20</td>\n",
       "      <td>30</td>\n",
       "      <td>92.83</td>\n",
       "    </tr>\n",
       "  </tbody>\n",
       "</table>\n",
       "</div>"
      ],
      "text/plain": [
       "    pH  Temp  Adsorbent  Ct_time    eff\n",
       "0    9   328         40       50  98.92\n",
       "1    7   318         30       20  98.72\n",
       "2    7   318         50       40  99.78\n",
       "3    5   308         20       30  80.74\n",
       "4    7   318         30       40  99.11\n",
       "5    9   308         40       30  97.99\n",
       "6   11   318         30       40  99.88\n",
       "7    5   308         40       50  97.15\n",
       "8    9   308         20       50  97.52\n",
       "9    5   328         40       30  71.08\n",
       "10   5   328         20       30  86.60\n",
       "11   7   298         30       40  96.45\n",
       "12   5   328         40       50  98.73\n",
       "13   9   328         20       50  95.98\n",
       "14   7   318         30       30  96.98\n",
       "15   5   328         20       50  78.42\n",
       "16   7   318         30       40  97.15\n",
       "17   5   308         40       30  98.08\n",
       "18   7   318         30       60  93.72\n",
       "19   9   328         20       30  94.16\n",
       "20   7   318         30       40  92.37\n",
       "21   7   318         10       40  87.05\n",
       "22   7   338         30       40  94.64\n",
       "23   9   308         40       50  99.47\n",
       "24   9   328         40       30  98.17\n",
       "25   3   318         30       40  80.36\n",
       "26   5   308         20       50  77.56\n",
       "27   9   308         20       30  92.83"
      ]
     },
     "metadata": {},
     "execution_count": 20
    }
   ],
   "metadata": {}
  },
  {
   "cell_type": "code",
   "execution_count": 21,
   "source": [
    "from sklearn.preprocessing import StandardScaler\r\n",
    "scaler1 = StandardScaler()\r\n",
    "Sd_scaler1 =scaler1.fit(dataset)\r\n",
    "data1_Sd= Sd_scaler1.transform(dataset)\r\n",
    "print(data1_Sd)\r\n",
    "    \r\n",
    "    #convert to dataframe\r\n",
    "dataset= pd.DataFrame(data1_Sd, columns=dataset.keys())"
   ],
   "outputs": [
    {
     "output_type": "stream",
     "name": "stdout",
     "text": [
      "[[ 1.08012345e+00  1.08012345e+00  1.08012345e+00  1.09688074e+00\n",
      "   7.65556425e-01]\n",
      " [ 0.00000000e+00  0.00000000e+00  0.00000000e+00 -2.08029105e+00\n",
      "   7.40360328e-01]\n",
      " [ 0.00000000e+00  0.00000000e+00  2.16024690e+00  3.78234737e-02\n",
      "   8.73899644e-01]\n",
      " [-1.08012345e+00 -1.08012345e+00 -1.08012345e+00 -1.02123379e+00\n",
      "  -1.52476883e+00]\n",
      " [ 0.00000000e+00  0.00000000e+00  0.00000000e+00  3.78234737e-02\n",
      "   7.89492718e-01]\n",
      " [ 1.08012345e+00 -1.08012345e+00  1.08012345e+00 -1.02123379e+00\n",
      "   6.48394572e-01]\n",
      " [ 2.16024690e+00  0.00000000e+00  0.00000000e+00  3.78234737e-02\n",
      "   8.86497693e-01]\n",
      " [-1.08012345e+00 -1.08012345e+00  1.08012345e+00  1.09688074e+00\n",
      "   5.42570963e-01]\n",
      " [ 1.08012345e+00 -1.08012345e+00 -1.08012345e+00  1.09688074e+00\n",
      "   5.89183743e-01]\n",
      " [-1.08012345e+00  1.08012345e+00  1.08012345e+00 -1.02123379e+00\n",
      "  -2.74174034e+00]\n",
      " [-1.08012345e+00  1.08012345e+00 -1.08012345e+00 -1.02123379e+00\n",
      "  -7.86523178e-01]\n",
      " [ 0.00000000e+00 -2.16024690e+00  0.00000000e+00  3.78234737e-02\n",
      "   4.54384622e-01]\n",
      " [-1.08012345e+00  1.08012345e+00  1.08012345e+00  1.09688074e+00\n",
      "   7.41620133e-01]\n",
      " [ 1.08012345e+00  1.08012345e+00 -1.08012345e+00  1.09688074e+00\n",
      "   3.95173793e-01]\n",
      " [ 0.00000000e+00  0.00000000e+00  0.00000000e+00 -1.02123379e+00\n",
      "   5.21154280e-01]\n",
      " [-1.08012345e+00  1.08012345e+00 -1.08012345e+00  1.09688074e+00\n",
      "  -1.81704356e+00]\n",
      " [ 0.00000000e+00  0.00000000e+00  0.00000000e+00  3.78234737e-02\n",
      "   5.42570963e-01]\n",
      " [-1.08012345e+00 -1.08012345e+00  1.08012345e+00 -1.02123379e+00\n",
      "   6.59732816e-01]\n",
      " [ 0.00000000e+00  0.00000000e+00  0.00000000e+00  2.15593800e+00\n",
      "   1.10457892e-01]\n",
      " [ 1.08012345e+00  1.08012345e+00 -1.08012345e+00 -1.02123379e+00\n",
      "   1.65889306e-01]\n",
      " [ 0.00000000e+00  0.00000000e+00  0.00000000e+00  3.78234737e-02\n",
      "  -5.96157663e-02]\n",
      " [ 0.00000000e+00  0.00000000e+00 -2.16024690e+00  3.78234737e-02\n",
      "  -7.29831959e-01]\n",
      " [ 0.00000000e+00  2.16024690e+00  0.00000000e+00  3.78234737e-02\n",
      "   2.26359940e-01]\n",
      " [ 1.08012345e+00 -1.08012345e+00  1.08012345e+00  1.09688074e+00\n",
      "   8.34845693e-01]\n",
      " [ 1.08012345e+00  1.08012345e+00  1.08012345e+00 -1.02123379e+00\n",
      "   6.71071060e-01]\n",
      " [-2.16024690e+00  0.00000000e+00  0.00000000e+00  3.78234737e-02\n",
      "  -1.57264142e+00]\n",
      " [-1.08012345e+00 -1.08012345e+00 -1.08012345e+00  1.09688074e+00\n",
      "  -1.92538678e+00]\n",
      " [ 1.08012345e+00 -1.08012345e+00 -1.08012345e+00 -1.02123379e+00\n",
      "  -1.66474215e-03]]\n"
     ]
    }
   ],
   "metadata": {}
  },
  {
   "cell_type": "code",
   "execution_count": null,
   "source": [
    "#scalling II, Minmax\r\n",
    "from sklearn.preprocessing import MinMaxScaler\r\n",
    "\r\n",
    "scaler2=MinMaxScaler()\r\n",
    "MM_scaler1=scaler2.fit(dataset)\r\n",
    "data1_MM=MM_scaler1.transform(dataset)\r\n",
    "print(data1_MM)\r\n",
    "\r\n",
    "    #convert to dataframe\r\n",
    "dataset= pd.DataFrame(data1_MM, columns=dataset.keys())"
   ],
   "outputs": [],
   "metadata": {}
  },
  {
   "cell_type": "code",
   "execution_count": 22,
   "source": [
    "inputs = dataset.copy()\r\n",
    "\r\n",
    "target = inputs.pop('eff')\r\n",
    "\r\n",
    "\r\n",
    "\r\n",
    "train_input, test_input, train_target, test_target = model_selection.train_test_split(inputs, target, train_size=0.7)\r\n",
    "\r\n",
    "print('train samples:', len(train_input))\r\n",
    "print('test samples', len(test_input))\r\n",
    "\r\n"
   ],
   "outputs": [
    {
     "output_type": "stream",
     "name": "stdout",
     "text": [
      "train samples: 19\n",
      "test samples 9\n"
     ]
    }
   ],
   "metadata": {}
  },
  {
   "cell_type": "code",
   "execution_count": 23,
   "source": [
    "#model_raw\r\n",
    "model = XGBRegressor(n_estimators=100, max_depth=4, booster='gbtree')\r\n",
    "model.fit(train_input, train_target\r\n",
    "         )\r\n",
    "\r\n",
    "# plot\r\n",
    "predicted = model.predict(test_input)\r\n",
    "\r\n",
    "fig, ax = plt.subplots()\r\n",
    "ax.scatter(test_target, predicted)\r\n",
    "\r\n",
    "ax.set_xlabel('True Values')\r\n",
    "ax.set_ylabel('Predicted')\r\n",
    "# _ = ax.plot([0, predicted.max()], [0, predicted.max()], ls='-', color='red')"
   ],
   "outputs": [
    {
     "output_type": "stream",
     "name": "stderr",
     "text": [
      "D:\\anaconda3\\lib\\site-packages\\xgboost\\data.py:112: UserWarning: Use subset (sliced data) of np.ndarray is not recommended because it will generate extra copies and increase memory consumption\n",
      "  warnings.warn(\n"
     ]
    },
    {
     "output_type": "execute_result",
     "data": {
      "text/plain": [
       "Text(0, 0.5, 'Predicted')"
      ]
     },
     "metadata": {},
     "execution_count": 23
    },
    {
     "output_type": "display_data",
     "data": {
      "image/png": "[encoded data removed]",
      "text/plain": [
       "<Figure size 432x288 with 1 Axes>"
      ]
     },
     "metadata": {
      "needs_background": "light"
     }
    }
   ],
   "metadata": {}
  },
  {
   "cell_type": "markdown",
   "source": [
    "# Optimization and tuning"
   ],
   "metadata": {}
  },
  {
   "cell_type": "code",
   "execution_count": 4,
   "source": [
    "## Hyper Parameter Optimization\r\n",
    "\r\n",
    "booster=['gbtree','gblinear']\r\n",
    "base_score=[0.25,0.5,0.75,1]\r\n",
    "objective = ['reg:squarederror']\r\n",
    "\r\n",
    "\r\n",
    "subsample = [0.5, 0.7]\r\n",
    "colsample_bytree= [0.5, 0.7]\r\n",
    "n_estimators = [100, 500, 900, 1100, 1500]\r\n",
    "\r\n",
    "learning_rate=[0.05,0.01,0.05, 0.08,0.095, 0.1,0.15,0.20]\r\n",
    "max_depth = [2, 3, 5, 10, 15 ]\r\n",
    "min_child_weight=[1,2,3,4,6,8,10]"
   ],
   "outputs": [],
   "metadata": {}
  },
  {
   "cell_type": "code",
   "execution_count": 5,
   "source": [
    "# Define the grid of hyperparameters to search\r\n",
    "hyperparameter_grid = {\r\n",
    "    'n_estimators': n_estimators,\r\n",
    "    'max_depth':max_depth,\r\n",
    "    'learning_rate':learning_rate,\r\n",
    "    'min_child_weight':min_child_weight,\r\n",
    "    'booster':booster,\r\n",
    "    'base_score':base_score\r\n",
    "    }\r\n",
    "\r\n",
    "\r\n",
    "hyperparameter_grid2={\r\n",
    "    \r\n",
    "}\r\n",
    "\r\n",
    "param_tuning = {\r\n",
    "        'learning_rate': [0.01, 0.1],\r\n",
    "        'max_depth': [3, 5, 7, 10],\r\n",
    "        'min_child_weight': [1, 3, 5],\r\n",
    "        'subsample': [0.5, 0.7],\r\n",
    "        'colsample_bytree': [0.5, 0.7],\r\n",
    "        'n_estimators' : [100, 200, 500],\r\n",
    "        'objective': ['reg:squarederror']\r\n",
    "    }"
   ],
   "outputs": [],
   "metadata": {}
  },
  {
   "cell_type": "code",
   "execution_count": 6,
   "source": [
    "# Set up the random search with 4-fold cross validation\r\n",
    "import xgboost\r\n",
    "xgb_model1 =xgboost.XGBRegressor()\r\n",
    "\r\n",
    "xgb_model2 = XGBRegressor()\r\n",
    "\r\n",
    "random_cv = RandomizedSearchCV(estimator=xgb_model1,\r\n",
    "                                param_distributions=hyperparameter_grid,\r\n",
    "                                cv=5, \r\n",
    "                                n_iter=50,\r\n",
    "                                scoring = 'neg_mean_absolute_error',\r\n",
    "                                n_jobs = -1,\r\n",
    "                                verbose = 5, \r\n",
    "                                return_train_score = True,\r\n",
    "                                random_state=42)\r\n",
    "\r\n",
    "\r\n",
    "gsearch = GridSearchCV(estimator = xgb_model2,\r\n",
    "                        param_grid = param_tuning,                        \r\n",
    "                        #scoring = 'neg_mean_absolute_error', #MAE\r\n",
    "                        #scoring = 'neg_mean_squared_error',  #MSE\r\n",
    "                        cv = 5,\r\n",
    "                        n_jobs = -1,\r\n",
    "                        verbose = 1)\r\n",
    "\r\n"
   ],
   "outputs": [],
   "metadata": {}
  },
  {
   "cell_type": "code",
   "execution_count": 11,
   "source": [
    "    xgb_model = XGBRegressor()\r\n",
    "    xgb_model.fit(train_input, train_target, early_stopping_rounds=10, eval_set=[(test_input, test_target)], verbose=False)\r\n",
    "\r\n"
   ],
   "outputs": [
    {
     "output_type": "execute_result",
     "data": {
      "text/plain": [
       "XGBRegressor(base_score=0.5, booster='gbtree', colsample_bylevel=1,\n",
       "             colsample_bynode=1, colsample_bytree=1, gamma=0, gpu_id=-1,\n",
       "             importance_type='gain', interaction_constraints='',\n",
       "             learning_rate=0.300000012, max_delta_step=0, max_depth=6,\n",
       "             min_child_weight=1, missing=nan, monotone_constraints='()',\n",
       "             n_estimators=100, n_jobs=12, num_parallel_tree=1, random_state=0,\n",
       "             reg_alpha=0, reg_lambda=1, scale_pos_weight=1, subsample=1,\n",
       "             tree_method='exact', validate_parameters=1, verbosity=None)"
      ]
     },
     "metadata": {},
     "execution_count": 11
    }
   ],
   "metadata": {}
  },
  {
   "cell_type": "code",
   "execution_count": 12,
   "source": [
    "    gsearch.fit(train_input, train_target,\r\n",
    "                eval_set=[(test_input, test_target)],\r\n",
    "               early_stopping_rounds=10\r\n",
    "               )"
   ],
   "outputs": [
    {
     "output_type": "stream",
     "name": "stdout",
     "text": [
      "Fitting 5 folds for each of 288 candidates, totalling 1440 fits\n"
     ]
    },
    {
     "output_type": "stream",
     "name": "stderr",
     "text": [
      "[Parallel(n_jobs=-1)]: Using backend LokyBackend with 12 concurrent workers.\n",
      "[Parallel(n_jobs=-1)]: Done  26 tasks      | elapsed:    5.5s\n",
      "[Parallel(n_jobs=-1)]: Done 176 tasks      | elapsed:   19.1s\n",
      "[Parallel(n_jobs=-1)]: Done 426 tasks      | elapsed:   40.9s\n",
      "[Parallel(n_jobs=-1)]: Done 776 tasks      | elapsed:   57.1s\n",
      "[Parallel(n_jobs=-1)]: Done 1226 tasks      | elapsed:  1.5min\n"
     ]
    },
    {
     "output_type": "stream",
     "name": "stdout",
     "text": [
      "[0]\tvalidation_0-rmse:86.06839\n",
      "[1]\tvalidation_0-rmse:78.33339\n",
      "[2]\tvalidation_0-rmse:71.38357\n",
      "[3]\tvalidation_0-rmse:65.56506\n",
      "[4]\tvalidation_0-rmse:60.01441\n",
      "[5]\tvalidation_0-rmse:55.15344\n",
      "[6]\tvalidation_0-rmse:50.42661\n",
      "[7]\tvalidation_0-rmse:46.22002\n",
      "[8]\tvalidation_0-rmse:42.36617\n",
      "[9]\tvalidation_0-rmse:39.01285\n",
      "[10]\tvalidation_0-rmse:35.82041\n",
      "[11]\tvalidation_0-rmse:32.78862\n",
      "[12]\tvalidation_0-rmse:30.02793\n",
      "[13]\tvalidation_0-rmse:27.53127\n",
      "[14]\tvalidation_0-rmse:25.26125\n",
      "[15]\tvalidation_0-rmse:23.33914\n",
      "[16]\tvalidation_0-rmse:21.68957\n",
      "[17]\tvalidation_0-rmse:20.11209\n",
      "[18]\tvalidation_0-rmse:18.57141\n",
      "[19]\tvalidation_0-rmse:17.21555\n",
      "[20]\tvalidation_0-rmse:16.07111\n",
      "[21]\tvalidation_0-rmse:14.96123\n",
      "[22]\tvalidation_0-rmse:13.82473\n",
      "[23]\tvalidation_0-rmse:12.91611\n",
      "[24]\tvalidation_0-rmse:11.98235\n",
      "[25]\tvalidation_0-rmse:11.33318\n",
      "[26]\tvalidation_0-rmse:10.71761\n",
      "[27]\tvalidation_0-rmse:9.99895\n",
      "[28]\tvalidation_0-rmse:9.34080\n",
      "[29]\tvalidation_0-rmse:8.67877\n",
      "[30]\tvalidation_0-rmse:8.35449\n",
      "[31]\tvalidation_0-rmse:7.84025\n",
      "[32]\tvalidation_0-rmse:7.48317\n",
      "[33]\tvalidation_0-rmse:7.23968\n",
      "[34]\tvalidation_0-rmse:6.94075\n",
      "[35]\tvalidation_0-rmse:6.71556\n",
      "[36]\tvalidation_0-rmse:6.50506\n",
      "[37]\tvalidation_0-rmse:6.33525\n",
      "[38]\tvalidation_0-rmse:6.31323\n",
      "[39]\tvalidation_0-rmse:6.13917\n",
      "[40]\tvalidation_0-rmse:5.96736\n",
      "[41]\tvalidation_0-rmse:5.64565\n",
      "[42]\tvalidation_0-rmse:5.52505\n",
      "[43]\tvalidation_0-rmse:5.49205\n",
      "[44]\tvalidation_0-rmse:5.41755\n",
      "[45]\tvalidation_0-rmse:5.45079\n",
      "[46]\tvalidation_0-rmse:5.35840\n",
      "[47]\tvalidation_0-rmse:5.15072\n",
      "[48]\tvalidation_0-rmse:5.19214\n",
      "[49]\tvalidation_0-rmse:5.09828\n",
      "[50]\tvalidation_0-rmse:5.19150\n",
      "[51]\tvalidation_0-rmse:5.23927\n",
      "[52]\tvalidation_0-rmse:5.30564\n",
      "[53]\tvalidation_0-rmse:5.25910\n",
      "[54]\tvalidation_0-rmse:5.47075\n",
      "[55]\tvalidation_0-rmse:5.55541\n",
      "[56]\tvalidation_0-rmse:5.61616\n",
      "[57]\tvalidation_0-rmse:5.47217\n",
      "[58]\tvalidation_0-rmse:5.47853\n"
     ]
    },
    {
     "output_type": "stream",
     "name": "stderr",
     "text": [
      "[Parallel(n_jobs=-1)]: Done 1440 out of 1440 | elapsed:  1.6min finished\n"
     ]
    },
    {
     "output_type": "execute_result",
     "data": {
      "text/plain": [
       "GridSearchCV(cv=5,\n",
       "             estimator=XGBRegressor(base_score=None, booster=None,\n",
       "                                    colsample_bylevel=None,\n",
       "                                    colsample_bynode=None,\n",
       "                                    colsample_bytree=None, gamma=None,\n",
       "                                    gpu_id=None, importance_type='gain',\n",
       "                                    interaction_constraints=None,\n",
       "                                    learning_rate=None, max_delta_step=None,\n",
       "                                    max_depth=None, min_child_weight=None,\n",
       "                                    missing=nan, monotone_constraints=None,\n",
       "                                    n_estimators=100, n_jobs=...\n",
       "                                    num_parallel_tree=None, random_state=None,\n",
       "                                    reg_alpha=None, reg_lambda=None,\n",
       "                                    scale_pos_weight=None, subsample=None,\n",
       "                                    tree_method=None, validate_parameters=None,\n",
       "                                    verbosity=None),\n",
       "             n_jobs=-1,\n",
       "             param_grid={'colsample_bytree': [0.5, 0.7],\n",
       "                         'learning_rate': [0.01, 0.1],\n",
       "                         'max_depth': [3, 5, 7, 10],\n",
       "                         'min_child_weight': [1, 3, 5],\n",
       "                         'n_estimators': [100, 200, 500],\n",
       "                         'objective': ['reg:squarederror'],\n",
       "                         'subsample': [0.5, 0.7]},\n",
       "             verbose=1)"
      ]
     },
     "metadata": {},
     "execution_count": 12
    }
   ],
   "metadata": {}
  },
  {
   "cell_type": "code",
   "execution_count": 13,
   "source": [
    "# Best params\r\n",
    "gsearch.best_params_"
   ],
   "outputs": [
    {
     "output_type": "execute_result",
     "data": {
      "text/plain": [
       "{'colsample_bytree': 0.5,\n",
       " 'learning_rate': 0.1,\n",
       " 'max_depth': 3,\n",
       " 'min_child_weight': 3,\n",
       " 'n_estimators': 100,\n",
       " 'objective': 'reg:squarederror',\n",
       " 'subsample': 0.5}"
      ]
     },
     "metadata": {},
     "execution_count": 13
    }
   ],
   "metadata": {}
  },
  {
   "cell_type": "code",
   "execution_count": 28,
   "source": [
    "random_cv.fit(train_input, train_target,\r\n",
    "                eval_set=[(test_input, test_target)],\r\n",
    "               early_stopping_rounds=10\r\n",
    "               )"
   ],
   "outputs": [
    {
     "output_type": "stream",
     "name": "stdout",
     "text": [
      "Fitting 5 folds for each of 50 candidates, totalling 250 fits\n"
     ]
    },
    {
     "output_type": "stream",
     "name": "stderr",
     "text": [
      "[Parallel(n_jobs=-1)]: Using backend LokyBackend with 12 concurrent workers.\n",
      "[Parallel(n_jobs=-1)]: Done  72 tasks      | elapsed:    1.9s\n",
      "[Parallel(n_jobs=-1)]: Done 227 out of 250 | elapsed:    6.5s remaining:    0.6s\n"
     ]
    },
    {
     "output_type": "stream",
     "name": "stdout",
     "text": [
      "[09:30:33] WARNING: C:/Users/Administrator/workspace/xgboost-win64_release_1.4.0/src/learner.cc:573: \n",
      "Parameters: { \"max_depth\", \"min_child_weight\" } might not be used.\n",
      "\n",
      "  This may not be accurate due to some parameters are only used in language bindings but\n",
      "  passed down to XGBoost core.  Or some parameters are not used but slip through this\n",
      "  verification. Please open an issue if you find above cases.\n",
      "\n",
      "\n",
      "[0]\tvalidation_0-rmse:0.70979\n",
      "[1]\tvalidation_0-rmse:0.70432\n",
      "[2]\tvalidation_0-rmse:0.69893\n",
      "[3]\tvalidation_0-rmse:0.69363\n",
      "[4]\tvalidation_0-rmse:0.68843\n",
      "[5]\tvalidation_0-rmse:0.68331\n",
      "[6]\tvalidation_0-rmse:0.67828\n",
      "[7]\tvalidation_0-rmse:0.67334\n",
      "[8]\tvalidation_0-rmse:0.66849\n",
      "[9]\tvalidation_0-rmse:0.66372\n",
      "[10]\tvalidation_0-rmse:0.65904\n",
      "[11]\tvalidation_0-rmse:0.65444\n",
      "[12]\tvalidation_0-rmse:0.64992\n",
      "[13]\tvalidation_0-rmse:0.64549\n",
      "[14]\tvalidation_0-rmse:0.64114\n",
      "[15]\tvalidation_0-rmse:0.63687\n",
      "[16]\tvalidation_0-rmse:0.63267\n",
      "[17]\tvalidation_0-rmse:0.62856\n",
      "[18]\tvalidation_0-rmse:0.62452\n",
      "[19]\tvalidation_0-rmse:0.62057\n",
      "[20]\tvalidation_0-rmse:0.61669\n",
      "[21]\tvalidation_0-rmse:0.61288\n",
      "[22]\tvalidation_0-rmse:0.60915\n",
      "[23]\tvalidation_0-rmse:0.60549\n",
      "[24]\tvalidation_0-rmse:0.60190\n",
      "[25]\tvalidation_0-rmse:0.59838\n",
      "[26]\tvalidation_0-rmse:0.59494\n",
      "[27]\tvalidation_0-rmse:0.59157\n",
      "[28]\tvalidation_0-rmse:0.58826\n",
      "[29]\tvalidation_0-rmse:0.58503\n",
      "[30]\tvalidation_0-rmse:0.58186\n",
      "[31]\tvalidation_0-rmse:0.57876\n",
      "[32]\tvalidation_0-rmse:0.57572\n",
      "[33]\tvalidation_0-rmse:0.57275\n",
      "[34]\tvalidation_0-rmse:0.56985\n",
      "[35]\tvalidation_0-rmse:0.56700\n",
      "[36]\tvalidation_0-rmse:0.56422\n",
      "[37]\tvalidation_0-rmse:0.56150\n",
      "[38]\tvalidation_0-rmse:0.55884\n",
      "[39]\tvalidation_0-rmse:0.55624\n",
      "[40]\tvalidation_0-rmse:0.55371\n",
      "[41]\tvalidation_0-rmse:0.55122\n",
      "[42]\tvalidation_0-rmse:0.54880\n",
      "[43]\tvalidation_0-rmse:0.54644\n",
      "[44]\tvalidation_0-rmse:0.54413\n",
      "[45]\tvalidation_0-rmse:0.54187\n",
      "[46]\tvalidation_0-rmse:0.53967\n",
      "[47]\tvalidation_0-rmse:0.53752\n",
      "[48]\tvalidation_0-rmse:0.53542\n",
      "[49]\tvalidation_0-rmse:0.53338\n",
      "[50]\tvalidation_0-rmse:0.53139\n",
      "[51]\tvalidation_0-rmse:0.52945\n",
      "[52]\tvalidation_0-rmse:0.52755\n",
      "[53]\tvalidation_0-rmse:0.52571\n",
      "[54]\tvalidation_0-rmse:0.52391\n",
      "[55]\tvalidation_0-rmse:0.52216\n",
      "[56]\tvalidation_0-rmse:0.52046\n",
      "[57]\tvalidation_0-rmse:0.51880\n",
      "[58]\tvalidation_0-rmse:0.51719\n",
      "[59]\tvalidation_0-rmse:0.51562\n",
      "[60]\tvalidation_0-rmse:0.51409\n",
      "[61]\tvalidation_0-rmse:0.51260\n",
      "[62]\tvalidation_0-rmse:0.51116\n",
      "[63]\tvalidation_0-rmse:0.50976\n",
      "[64]\tvalidation_0-rmse:0.50839\n",
      "[65]\tvalidation_0-rmse:0.50707\n",
      "[66]\tvalidation_0-rmse:0.50579\n",
      "[67]\tvalidation_0-rmse:0.50454\n",
      "[68]\tvalidation_0-rmse:0.50333\n",
      "[69]\tvalidation_0-rmse:0.50216\n",
      "[70]\tvalidation_0-rmse:0.50102\n",
      "[71]\tvalidation_0-rmse:0.49992\n",
      "[72]\tvalidation_0-rmse:0.49885\n",
      "[73]\tvalidation_0-rmse:0.49782\n",
      "[74]\tvalidation_0-rmse:0.49682\n",
      "[75]\tvalidation_0-rmse:0.49585\n",
      "[76]\tvalidation_0-rmse:0.49492\n",
      "[77]\tvalidation_0-rmse:0.49401\n",
      "[78]\tvalidation_0-rmse:0.49314\n",
      "[79]\tvalidation_0-rmse:0.49230\n",
      "[80]\tvalidation_0-rmse:0.49148\n",
      "[81]\tvalidation_0-rmse:0.49070\n",
      "[82]\tvalidation_0-rmse:0.48994\n",
      "[83]\tvalidation_0-rmse:0.48921\n",
      "[84]\tvalidation_0-rmse:0.48851\n",
      "[85]\tvalidation_0-rmse:0.48783\n",
      "[86]\tvalidation_0-rmse:0.48718\n",
      "[87]\tvalidation_0-rmse:0.48656\n",
      "[88]\tvalidation_0-rmse:0.48596\n",
      "[89]\tvalidation_0-rmse:0.48538\n",
      "[90]\tvalidation_0-rmse:0.48483\n",
      "[91]\tvalidation_0-rmse:0.48429\n",
      "[92]\tvalidation_0-rmse:0.48379\n",
      "[93]\tvalidation_0-rmse:0.48330\n",
      "[94]\tvalidation_0-rmse:0.48284\n",
      "[95]\tvalidation_0-rmse:0.48239\n",
      "[96]\tvalidation_0-rmse:0.48197\n",
      "[97]\tvalidation_0-rmse:0.48157\n",
      "[98]\tvalidation_0-rmse:0.48119\n",
      "[99]\tvalidation_0-rmse:0.48083\n"
     ]
    },
    {
     "output_type": "stream",
     "name": "stderr",
     "text": [
      "[Parallel(n_jobs=-1)]: Done 250 out of 250 | elapsed:    7.2s finished\n"
     ]
    },
    {
     "output_type": "execute_result",
     "data": {
      "text/plain": [
       "RandomizedSearchCV(cv=5,\n",
       "                   estimator=XGBRegressor(base_score=None, booster=None,\n",
       "                                          colsample_bylevel=None,\n",
       "                                          colsample_bynode=None,\n",
       "                                          colsample_bytree=None, gamma=None,\n",
       "                                          gpu_id=None, importance_type='gain',\n",
       "                                          interaction_constraints=None,\n",
       "                                          learning_rate=None,\n",
       "                                          max_delta_step=None, max_depth=None,\n",
       "                                          min_child_weight=None, missing=nan,\n",
       "                                          monotone_constraints=None,\n",
       "                                          n_estimators=100, n...\n",
       "                                          verbosity=None),\n",
       "                   n_iter=50, n_jobs=-1,\n",
       "                   param_distributions={'base_score': [0.25, 0.5, 0.75, 1],\n",
       "                                        'booster': ['gbtree', 'gblinear'],\n",
       "                                        'learning_rate': [0.05, 0.01, 0.05,\n",
       "                                                          0.08, 0.095, 0.1,\n",
       "                                                          0.15, 0.2],\n",
       "                                        'max_depth': [2, 3, 5, 10, 15],\n",
       "                                        'min_child_weight': [1, 2, 3, 4, 6, 8,\n",
       "                                                             10],\n",
       "                                        'n_estimators': [100, 500, 900, 1100,\n",
       "                                                         1500]},\n",
       "                   random_state=42, return_train_score=True,\n",
       "                   scoring='neg_mean_absolute_error', verbose=5)"
      ]
     },
     "metadata": {},
     "execution_count": 28
    }
   ],
   "metadata": {}
  },
  {
   "cell_type": "code",
   "execution_count": 29,
   "source": [
    "# Best params\r\n",
    "random_cv.best_estimator_"
   ],
   "outputs": [
    {
     "output_type": "execute_result",
     "data": {
      "text/plain": [
       "XGBRegressor(base_score=0.25, booster='gblinear', colsample_bylevel=None,\n",
       "             colsample_bynode=None, colsample_bytree=None, gamma=None,\n",
       "             gpu_id=-1, importance_type='gain', interaction_constraints=None,\n",
       "             learning_rate=0.01, max_delta_step=None, max_depth=10,\n",
       "             min_child_weight=2, missing=nan, monotone_constraints=None,\n",
       "             n_estimators=100, n_jobs=12, num_parallel_tree=None,\n",
       "             random_state=0, reg_alpha=0, reg_lambda=0, scale_pos_weight=1,\n",
       "             subsample=None, tree_method=None, validate_parameters=1,\n",
       "             verbosity=None)"
      ]
     },
     "metadata": {},
     "execution_count": 29
    }
   ],
   "metadata": {}
  },
  {
   "cell_type": "code",
   "execution_count": null,
   "source": [],
   "outputs": [],
   "metadata": {}
  },
  {
   "cell_type": "code",
   "execution_count": null,
   "source": [
    "#Run only in the first run of the kernel.\r\n",
    "hyperParameterTuning(train_input, train_target)"
   ],
   "outputs": [],
   "metadata": {}
  },
  {
   "cell_type": "code",
   "execution_count": null,
   "source": [
    "Best Params\r\n",
    "{'colsample_bytree': 0.7, 'learning_rate': 0.01, 'max_depth': 10, 'min_child_weight': 5, 'n_estimators': 500, 'subsample': 0.5}\r\n",
    "\r\n",
    "\r\n",
    "{'colsample_bytree': 0.7, 'learning_rate': 0.01, 'max_depth': 10, 'min_child_weight': 1, 'n_estimators': 500, 'subsample': 0.7}"
   ],
   "outputs": [],
   "metadata": {}
  },
  {
   "cell_type": "markdown",
   "source": [
    "# Best Fit"
   ],
   "metadata": {}
  },
  {
   "cell_type": "code",
   "execution_count": null,
   "source": [
    "model_Test = XGBRegressor(booster='gbtree',                      \r\n",
    "                          colsample_bytree= 0.5,\r\n",
    "                          learning_rate= 0.1,\r\n",
    "                          max_depth= 3,\r\n",
    "                          min_child_weight= 5,\r\n",
    "                          n_estimators= 200,\r\n",
    "                          objective= 'reg:squarederror',\r\n",
    "                          subsample= 0.7\r\n",
    "               \r\n",
    "                        )\r\n",
    "model_Test.fit(train_input, train_target,\r\n",
    "              early_stopping_rounds=10, eval_set=[(test_input, test_target)], verbose=False\r\n",
    "              )\r\n",
    "\r\n",
    "\r\n"
   ],
   "outputs": [],
   "metadata": {}
  },
  {
   "cell_type": "code",
   "execution_count": 30,
   "source": [
    "model_Test2= XGBRegressor(base_score=0.25, booster='gblinear', colsample_bylevel=None,\r\n",
    "             colsample_bynode=None, colsample_bytree=None, gamma=None,\r\n",
    "             gpu_id=-1, importance_type='gain', interaction_constraints=None,\r\n",
    "             learning_rate=0.01, max_delta_step=None, max_depth=10,\r\n",
    "             min_child_weight=2, monotone_constraints=None,\r\n",
    "             n_estimators=100, n_jobs=12, num_parallel_tree=None,\r\n",
    "             random_state=0, reg_alpha=0, reg_lambda=0, scale_pos_weight=1,\r\n",
    "             subsample=None, tree_method=None, validate_parameters=1,\r\n",
    "             verbosity=None)\r\n",
    "\r\n",
    "model_Test2.fit(train_input, train_target,\r\n",
    "              early_stopping_rounds=10, eval_set=[(test_input, test_target)], verbose=False\r\n",
    "              )"
   ],
   "outputs": [
    {
     "output_type": "stream",
     "name": "stdout",
     "text": [
      "[09:34:48] WARNING: C:/Users/Administrator/workspace/xgboost-win64_release_1.4.0/src/learner.cc:573: \n",
      "Parameters: { \"max_depth\", \"min_child_weight\" } might not be used.\n",
      "\n",
      "  This may not be accurate due to some parameters are only used in language bindings but\n",
      "  passed down to XGBoost core.  Or some parameters are not used but slip through this\n",
      "  verification. Please open an issue if you find above cases.\n",
      "\n",
      "\n"
     ]
    },
    {
     "output_type": "execute_result",
     "data": {
      "text/plain": [
       "XGBRegressor(base_score=0.25, booster='gblinear', colsample_bylevel=None,\n",
       "             colsample_bynode=None, colsample_bytree=None, gamma=None,\n",
       "             gpu_id=-1, importance_type='gain', interaction_constraints=None,\n",
       "             learning_rate=0.01, max_delta_step=None, max_depth=10,\n",
       "             min_child_weight=2, missing=nan, monotone_constraints=None,\n",
       "             n_estimators=100, n_jobs=12, num_parallel_tree=None,\n",
       "             random_state=0, reg_alpha=0, reg_lambda=0, scale_pos_weight=1,\n",
       "             subsample=None, tree_method=None, validate_parameters=1,\n",
       "             verbosity=None)"
      ]
     },
     "metadata": {},
     "execution_count": 30
    }
   ],
   "metadata": {}
  },
  {
   "cell_type": "markdown",
   "source": [
    "## Plot results"
   ],
   "metadata": {}
  },
  {
   "cell_type": "code",
   "execution_count": 31,
   "source": [
    "predicted = model_Test2.predict(test_input)\r\n",
    "\r\n",
    "fig, ax = plt.subplots()\r\n",
    "ax.scatter(test_target, predicted, alpha=0.5)\r\n",
    "\r\n",
    "ax.set_xlabel('True Values')\r\n",
    "ax.set_ylabel('Predicted')"
   ],
   "outputs": [
    {
     "output_type": "execute_result",
     "data": {
      "text/plain": [
       "Text(0, 0.5, 'Predicted')"
      ]
     },
     "metadata": {},
     "execution_count": 31
    },
    {
     "output_type": "display_data",
     "data": {
      "image/png": "[encoded data removed]",
      "text/plain": [
       "<Figure size 432x288 with 1 Axes>"
      ]
     },
     "metadata": {
      "needs_background": "light"
     }
    }
   ],
   "metadata": {}
  },
  {
   "cell_type": "code",
   "execution_count": 32,
   "source": [
    "print(\"r2 score: {}\".format(metrics.r2_score(test_target, predicted)))\r\n",
    "print(\"mse: {}\".format(metrics.mean_squared_error(test_target, predicted)))\r\n",
    "print(\"rmse: {}\".format(np.sqrt(metrics.mean_squared_error(test_target, predicted))))\r\n",
    "print(\"mae: {}\".format(metrics.mean_absolute_error(test_target, predicted)))"
   ],
   "outputs": [
    {
     "output_type": "stream",
     "name": "stdout",
     "text": [
      "r2 score: 0.547688581027626\n",
      "mse: 0.23118578659731043\n",
      "rmse: 0.4808178309893576\n",
      "mae: 0.36621840224056224\n"
     ]
    }
   ],
   "metadata": {}
  },
  {
   "cell_type": "code",
   "execution_count": null,
   "source": [],
   "outputs": [],
   "metadata": {}
  },
  {
   "cell_type": "markdown",
   "source": [
    "# PREDICT DIFF WELL"
   ],
   "metadata": {}
  },
  {
   "cell_type": "code",
   "execution_count": null,
   "source": [
    "# Feat_extracts well3\r\n",
    "\r\n",
    "xlsx_2 = pd.ExcelFile('Feat_extracts well4.xlsx')\r\n",
    "df_2 = pd.read_excel(xlsx_2, 'PCAs')\r\n",
    "dataset_pca_2= df_2.copy()\r\n",
    "\r\n",
    "\r\n",
    "dataset_pca_2.pop('PC3')\r\n",
    "dataset_pca_2.pop('index')\r\n",
    "\r\n",
    "dataset_pca_2"
   ],
   "outputs": [],
   "metadata": {}
  },
  {
   "cell_type": "code",
   "execution_count": null,
   "source": [
    "\r\n",
    "\r\n"
   ],
   "outputs": [],
   "metadata": {}
  }
 ],
 "metadata": {
  "kernelspec": {
   "display_name": "Python 3",
   "language": "python",
   "name": "python3"
  },
  "language_info": {
   "codemirror_mode": {
    "name": "ipython",
    "version": 3
   },
   "file_extension": ".py",
   "mimetype": "text/x-python",
   "name": "python",
   "nbconvert_exporter": "python",
   "pygments_lexer": "ipython3",
   "version": "3.8.5"
  },
  "varInspector": {
   "cols": {
    "lenName": 16,
    "lenType": 16,
    "lenVar": 40
   },
   "kernels_config": {
    "python": {
     "delete_cmd_postfix": "",
     "delete_cmd_prefix": "del ",
     "library": "var_list.py",
     "varRefreshCmd": "print(var_dic_list())"
    },
    "r": {
     "delete_cmd_postfix": ") ",
     "delete_cmd_prefix": "rm(",
     "library": "var_list.r",
     "varRefreshCmd": "cat(var_dic_list()) "
    }
   },
   "types_to_exclude": [
    "module",
    "function",
    "builtin_function_or_method",
    "instance",
    "_Feature"
   ],
   "window_display": false
  }
 },
 "nbformat": 4,
 "nbformat_minor": 4
}